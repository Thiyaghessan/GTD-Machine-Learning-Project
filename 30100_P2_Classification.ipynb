{
 "cells": [
  {
   "cell_type": "markdown",
   "id": "8c24a796",
   "metadata": {},
   "source": [
    "# Task"
   ]
  },
  {
   "cell_type": "markdown",
   "id": "59026b65",
   "metadata": {},
   "source": [
    "My task in this project is to predict the type of attack terrorists will engage in using data from the Global Terrorism Database (GTD). This task replicates the work of Huamani et al (2020), where the authors use machine learning data to predict the possible attack types such as hijackings, bombings and kindnapping. I will try to improve upon their results. This is a multi-class classification task.\n",
    "\n",
    "Link to paper: https://pdfs.semanticscholar.org/91db/4ac3c85a515e0e921e0b6e71960212049ae3.pdf\n",
    "\n",
    "Note: The database is large with over 135 columns. I have attached a codebook which you can also find here for detailed feature descriptions. https://www.start.umd.edu/gtd/downloads/Codebook.pdf"
   ]
  },
  {
   "cell_type": "markdown",
   "id": "3daf35cf",
   "metadata": {},
   "source": [
    "# Import Packages"
   ]
  },
  {
   "cell_type": "code",
   "execution_count": 1,
   "id": "c233feb6",
   "metadata": {},
   "outputs": [],
   "source": [
    "import pandas as pd\n",
    "import datetime\n",
    "import numpy as np\n",
    "from sklearn.compose import ColumnTransformer\n",
    "from sklearn.preprocessing import OneHotEncoder, MinMaxScaler\n",
    "from sklearn.pipeline import Pipeline\n",
    "from sklearn.model_selection import train_test_split\n",
    "from sklearn.model_selection import GridSearchCV\n",
    "from sklearn import metrics\n",
    "import seaborn as sns \n",
    "import matplotlib.pyplot as plt\n",
    "from sklearn.svm import LinearSVC\n",
    "from sklearn.ensemble import RandomForestClassifier\n",
    "from sklearn.linear_model import LogisticRegression\n",
    "from sklearn.model_selection import RandomizedSearchCV\n",
    "from sklearn.metrics import classification_report\n",
    "from sklearn.impute import MissingIndicator\n",
    "from sklearn.impute import SimpleImputer\n",
    "import util\n",
    "from util import FeatureImportance\n",
    "import seaborn as sns\n",
    "from sklearn.metrics import confusion_matrix\n",
    "import re"
   ]
  },
  {
   "cell_type": "code",
   "execution_count": 2,
   "id": "a596dc33",
   "metadata": {},
   "outputs": [],
   "source": [
    "#Global variable to use for later\n",
    "target_names = [\"Assassination\",\n",
    "                \"Armed Assault\",\n",
    "                \"Bombing/Explosion\",\n",
    "                \"Hijacking\",\n",
    "                \"Barricade Incident\",\n",
    "                \"Kidnapping\",\n",
    "                \"Facility/Infrastructure Attack\",\n",
    "                \"Unarmed Assault\"]"
   ]
  },
  {
   "cell_type": "markdown",
   "id": "7726fc7a",
   "metadata": {},
   "source": [
    "# Part 1: Data Preprocessing"
   ]
  },
  {
   "cell_type": "code",
   "execution_count": 3,
   "id": "7fcae72a",
   "metadata": {},
   "outputs": [
    {
     "name": "stderr",
     "output_type": "stream",
     "text": [
      "C:\\Users\\thiya\\AppData\\Local\\Temp\\ipykernel_3304\\4257334231.py:1: DtypeWarning: Columns (4,31,33,54,61,62,63,76,79,90,92,94,96,114,115,121) have mixed types. Specify dtype option on import or set low_memory=False.\n",
      "  gtd = pd.read_csv(\"globalterrorismdb_0221dist.csv\")\n"
     ]
    }
   ],
   "source": [
    "gtd = pd.read_csv(\"globalterrorismdb_0221dist.csv\")"
   ]
  },
  {
   "cell_type": "code",
   "execution_count": 3,
   "id": "33405546",
   "metadata": {},
   "outputs": [
    {
     "data": {
      "text/html": [
       "<div>\n",
       "<style scoped>\n",
       "    .dataframe tbody tr th:only-of-type {\n",
       "        vertical-align: middle;\n",
       "    }\n",
       "\n",
       "    .dataframe tbody tr th {\n",
       "        vertical-align: top;\n",
       "    }\n",
       "\n",
       "    .dataframe thead th {\n",
       "        text-align: right;\n",
       "    }\n",
       "</style>\n",
       "<table border=\"1\" class=\"dataframe\">\n",
       "  <thead>\n",
       "    <tr style=\"text-align: right;\">\n",
       "      <th></th>\n",
       "      <th>eventid</th>\n",
       "      <th>iyear</th>\n",
       "      <th>imonth</th>\n",
       "      <th>iday</th>\n",
       "      <th>approxdate</th>\n",
       "      <th>extended</th>\n",
       "      <th>resolution</th>\n",
       "      <th>country</th>\n",
       "      <th>country_txt</th>\n",
       "      <th>region</th>\n",
       "      <th>...</th>\n",
       "      <th>addnotes</th>\n",
       "      <th>scite1</th>\n",
       "      <th>scite2</th>\n",
       "      <th>scite3</th>\n",
       "      <th>dbsource</th>\n",
       "      <th>INT_LOG</th>\n",
       "      <th>INT_IDEO</th>\n",
       "      <th>INT_MISC</th>\n",
       "      <th>INT_ANY</th>\n",
       "      <th>related</th>\n",
       "    </tr>\n",
       "  </thead>\n",
       "  <tbody>\n",
       "    <tr>\n",
       "      <th>0</th>\n",
       "      <td>197000000001</td>\n",
       "      <td>1970</td>\n",
       "      <td>7</td>\n",
       "      <td>2</td>\n",
       "      <td>NaN</td>\n",
       "      <td>0</td>\n",
       "      <td>NaN</td>\n",
       "      <td>58</td>\n",
       "      <td>Dominican Republic</td>\n",
       "      <td>2</td>\n",
       "      <td>...</td>\n",
       "      <td>NaN</td>\n",
       "      <td>NaN</td>\n",
       "      <td>NaN</td>\n",
       "      <td>NaN</td>\n",
       "      <td>PGIS</td>\n",
       "      <td>0</td>\n",
       "      <td>0</td>\n",
       "      <td>0</td>\n",
       "      <td>0</td>\n",
       "      <td>NaN</td>\n",
       "    </tr>\n",
       "    <tr>\n",
       "      <th>1</th>\n",
       "      <td>197000000002</td>\n",
       "      <td>1970</td>\n",
       "      <td>0</td>\n",
       "      <td>0</td>\n",
       "      <td>NaN</td>\n",
       "      <td>0</td>\n",
       "      <td>NaN</td>\n",
       "      <td>130</td>\n",
       "      <td>Mexico</td>\n",
       "      <td>1</td>\n",
       "      <td>...</td>\n",
       "      <td>NaN</td>\n",
       "      <td>NaN</td>\n",
       "      <td>NaN</td>\n",
       "      <td>NaN</td>\n",
       "      <td>PGIS</td>\n",
       "      <td>0</td>\n",
       "      <td>1</td>\n",
       "      <td>1</td>\n",
       "      <td>1</td>\n",
       "      <td>NaN</td>\n",
       "    </tr>\n",
       "    <tr>\n",
       "      <th>2</th>\n",
       "      <td>197001000001</td>\n",
       "      <td>1970</td>\n",
       "      <td>1</td>\n",
       "      <td>0</td>\n",
       "      <td>NaN</td>\n",
       "      <td>0</td>\n",
       "      <td>NaN</td>\n",
       "      <td>160</td>\n",
       "      <td>Philippines</td>\n",
       "      <td>5</td>\n",
       "      <td>...</td>\n",
       "      <td>NaN</td>\n",
       "      <td>NaN</td>\n",
       "      <td>NaN</td>\n",
       "      <td>NaN</td>\n",
       "      <td>PGIS</td>\n",
       "      <td>-9</td>\n",
       "      <td>-9</td>\n",
       "      <td>1</td>\n",
       "      <td>1</td>\n",
       "      <td>NaN</td>\n",
       "    </tr>\n",
       "    <tr>\n",
       "      <th>3</th>\n",
       "      <td>197001000002</td>\n",
       "      <td>1970</td>\n",
       "      <td>1</td>\n",
       "      <td>0</td>\n",
       "      <td>NaN</td>\n",
       "      <td>0</td>\n",
       "      <td>NaN</td>\n",
       "      <td>78</td>\n",
       "      <td>Greece</td>\n",
       "      <td>8</td>\n",
       "      <td>...</td>\n",
       "      <td>NaN</td>\n",
       "      <td>NaN</td>\n",
       "      <td>NaN</td>\n",
       "      <td>NaN</td>\n",
       "      <td>PGIS</td>\n",
       "      <td>-9</td>\n",
       "      <td>-9</td>\n",
       "      <td>1</td>\n",
       "      <td>1</td>\n",
       "      <td>NaN</td>\n",
       "    </tr>\n",
       "    <tr>\n",
       "      <th>4</th>\n",
       "      <td>197001000003</td>\n",
       "      <td>1970</td>\n",
       "      <td>1</td>\n",
       "      <td>0</td>\n",
       "      <td>NaN</td>\n",
       "      <td>0</td>\n",
       "      <td>NaN</td>\n",
       "      <td>101</td>\n",
       "      <td>Japan</td>\n",
       "      <td>4</td>\n",
       "      <td>...</td>\n",
       "      <td>NaN</td>\n",
       "      <td>NaN</td>\n",
       "      <td>NaN</td>\n",
       "      <td>NaN</td>\n",
       "      <td>PGIS</td>\n",
       "      <td>-9</td>\n",
       "      <td>-9</td>\n",
       "      <td>1</td>\n",
       "      <td>1</td>\n",
       "      <td>NaN</td>\n",
       "    </tr>\n",
       "  </tbody>\n",
       "</table>\n",
       "<p>5 rows × 135 columns</p>\n",
       "</div>"
      ],
      "text/plain": [
       "        eventid  iyear  imonth  iday approxdate  extended resolution  country  \\\n",
       "0  197000000001   1970       7     2        NaN         0        NaN       58   \n",
       "1  197000000002   1970       0     0        NaN         0        NaN      130   \n",
       "2  197001000001   1970       1     0        NaN         0        NaN      160   \n",
       "3  197001000002   1970       1     0        NaN         0        NaN       78   \n",
       "4  197001000003   1970       1     0        NaN         0        NaN      101   \n",
       "\n",
       "          country_txt  region  ... addnotes scite1 scite2  scite3  dbsource  \\\n",
       "0  Dominican Republic       2  ...      NaN    NaN    NaN     NaN      PGIS   \n",
       "1              Mexico       1  ...      NaN    NaN    NaN     NaN      PGIS   \n",
       "2         Philippines       5  ...      NaN    NaN    NaN     NaN      PGIS   \n",
       "3              Greece       8  ...      NaN    NaN    NaN     NaN      PGIS   \n",
       "4               Japan       4  ...      NaN    NaN    NaN     NaN      PGIS   \n",
       "\n",
       "   INT_LOG  INT_IDEO INT_MISC INT_ANY  related  \n",
       "0        0         0        0       0      NaN  \n",
       "1        0         1        1       1      NaN  \n",
       "2       -9        -9        1       1      NaN  \n",
       "3       -9        -9        1       1      NaN  \n",
       "4       -9        -9        1       1      NaN  \n",
       "\n",
       "[5 rows x 135 columns]"
      ]
     },
     "execution_count": 3,
     "metadata": {},
     "output_type": "execute_result"
    }
   ],
   "source": [
    "gtd.head()"
   ]
  },
  {
   "cell_type": "code",
   "execution_count": 4,
   "id": "ee50870c",
   "metadata": {},
   "outputs": [
    {
     "data": {
      "text/plain": [
       "201183"
      ]
     },
     "execution_count": 4,
     "metadata": {},
     "output_type": "execute_result"
    }
   ],
   "source": [
    "len(gtd)"
   ]
  },
  {
   "cell_type": "markdown",
   "id": "9b6ca72c",
   "metadata": {},
   "source": [
    "My data has 201,183 rows and 135 columns. I received a warning message stating that there are mixed types in specific data columns. I will have to clean the data to address this issue."
   ]
  },
  {
   "cell_type": "code",
   "execution_count": 24,
   "id": "1faa414c",
   "metadata": {},
   "outputs": [
    {
     "data": {
      "text/html": [
       "<div>\n",
       "<style scoped>\n",
       "    .dataframe tbody tr th:only-of-type {\n",
       "        vertical-align: middle;\n",
       "    }\n",
       "\n",
       "    .dataframe tbody tr th {\n",
       "        vertical-align: top;\n",
       "    }\n",
       "\n",
       "    .dataframe thead th {\n",
       "        text-align: right;\n",
       "    }\n",
       "</style>\n",
       "<table border=\"1\" class=\"dataframe\">\n",
       "  <thead>\n",
       "    <tr style=\"text-align: right;\">\n",
       "      <th></th>\n",
       "      <th>approxdate</th>\n",
       "      <th>attacktype2_txt</th>\n",
       "      <th>attacktype3_txt</th>\n",
       "      <th>corp3</th>\n",
       "      <th>gsubname2</th>\n",
       "      <th>gname3</th>\n",
       "      <th>gsubname3</th>\n",
       "      <th>claimmode2_txt</th>\n",
       "      <th>claimmode3_txt</th>\n",
       "      <th>weaptype3_txt</th>\n",
       "      <th>weapsubtype3_txt</th>\n",
       "      <th>weaptype4_txt</th>\n",
       "      <th>weapsubtype4_txt</th>\n",
       "      <th>divert</th>\n",
       "      <th>kidhijcountry</th>\n",
       "      <th>ransomnote</th>\n",
       "    </tr>\n",
       "  </thead>\n",
       "  <tbody>\n",
       "    <tr>\n",
       "      <th>0</th>\n",
       "      <td>NaN</td>\n",
       "      <td>NaN</td>\n",
       "      <td>NaN</td>\n",
       "      <td>NaN</td>\n",
       "      <td>NaN</td>\n",
       "      <td>NaN</td>\n",
       "      <td>NaN</td>\n",
       "      <td>NaN</td>\n",
       "      <td>NaN</td>\n",
       "      <td>NaN</td>\n",
       "      <td>NaN</td>\n",
       "      <td>NaN</td>\n",
       "      <td>NaN</td>\n",
       "      <td>NaN</td>\n",
       "      <td>NaN</td>\n",
       "      <td>NaN</td>\n",
       "    </tr>\n",
       "    <tr>\n",
       "      <th>1</th>\n",
       "      <td>NaN</td>\n",
       "      <td>NaN</td>\n",
       "      <td>NaN</td>\n",
       "      <td>NaN</td>\n",
       "      <td>NaN</td>\n",
       "      <td>NaN</td>\n",
       "      <td>NaN</td>\n",
       "      <td>NaN</td>\n",
       "      <td>NaN</td>\n",
       "      <td>NaN</td>\n",
       "      <td>NaN</td>\n",
       "      <td>NaN</td>\n",
       "      <td>NaN</td>\n",
       "      <td>NaN</td>\n",
       "      <td>Mexico</td>\n",
       "      <td>NaN</td>\n",
       "    </tr>\n",
       "    <tr>\n",
       "      <th>2</th>\n",
       "      <td>NaN</td>\n",
       "      <td>NaN</td>\n",
       "      <td>NaN</td>\n",
       "      <td>NaN</td>\n",
       "      <td>NaN</td>\n",
       "      <td>NaN</td>\n",
       "      <td>NaN</td>\n",
       "      <td>NaN</td>\n",
       "      <td>NaN</td>\n",
       "      <td>NaN</td>\n",
       "      <td>NaN</td>\n",
       "      <td>NaN</td>\n",
       "      <td>NaN</td>\n",
       "      <td>NaN</td>\n",
       "      <td>NaN</td>\n",
       "      <td>NaN</td>\n",
       "    </tr>\n",
       "    <tr>\n",
       "      <th>3</th>\n",
       "      <td>NaN</td>\n",
       "      <td>NaN</td>\n",
       "      <td>NaN</td>\n",
       "      <td>NaN</td>\n",
       "      <td>NaN</td>\n",
       "      <td>NaN</td>\n",
       "      <td>NaN</td>\n",
       "      <td>NaN</td>\n",
       "      <td>NaN</td>\n",
       "      <td>NaN</td>\n",
       "      <td>NaN</td>\n",
       "      <td>NaN</td>\n",
       "      <td>NaN</td>\n",
       "      <td>NaN</td>\n",
       "      <td>NaN</td>\n",
       "      <td>NaN</td>\n",
       "    </tr>\n",
       "    <tr>\n",
       "      <th>4</th>\n",
       "      <td>NaN</td>\n",
       "      <td>NaN</td>\n",
       "      <td>NaN</td>\n",
       "      <td>NaN</td>\n",
       "      <td>NaN</td>\n",
       "      <td>NaN</td>\n",
       "      <td>NaN</td>\n",
       "      <td>NaN</td>\n",
       "      <td>NaN</td>\n",
       "      <td>NaN</td>\n",
       "      <td>NaN</td>\n",
       "      <td>NaN</td>\n",
       "      <td>NaN</td>\n",
       "      <td>NaN</td>\n",
       "      <td>NaN</td>\n",
       "      <td>NaN</td>\n",
       "    </tr>\n",
       "    <tr>\n",
       "      <th>...</th>\n",
       "      <td>...</td>\n",
       "      <td>...</td>\n",
       "      <td>...</td>\n",
       "      <td>...</td>\n",
       "      <td>...</td>\n",
       "      <td>...</td>\n",
       "      <td>...</td>\n",
       "      <td>...</td>\n",
       "      <td>...</td>\n",
       "      <td>...</td>\n",
       "      <td>...</td>\n",
       "      <td>...</td>\n",
       "      <td>...</td>\n",
       "      <td>...</td>\n",
       "      <td>...</td>\n",
       "      <td>...</td>\n",
       "    </tr>\n",
       "    <tr>\n",
       "      <th>201178</th>\n",
       "      <td>December 31, 2019</td>\n",
       "      <td>NaN</td>\n",
       "      <td>NaN</td>\n",
       "      <td>NaN</td>\n",
       "      <td>NaN</td>\n",
       "      <td>NaN</td>\n",
       "      <td>NaN</td>\n",
       "      <td>NaN</td>\n",
       "      <td>NaN</td>\n",
       "      <td>NaN</td>\n",
       "      <td>NaN</td>\n",
       "      <td>NaN</td>\n",
       "      <td>NaN</td>\n",
       "      <td>NaN</td>\n",
       "      <td>NaN</td>\n",
       "      <td>NaN</td>\n",
       "    </tr>\n",
       "    <tr>\n",
       "      <th>201179</th>\n",
       "      <td>NaN</td>\n",
       "      <td>NaN</td>\n",
       "      <td>NaN</td>\n",
       "      <td>NaN</td>\n",
       "      <td>NaN</td>\n",
       "      <td>NaN</td>\n",
       "      <td>NaN</td>\n",
       "      <td>NaN</td>\n",
       "      <td>NaN</td>\n",
       "      <td>NaN</td>\n",
       "      <td>NaN</td>\n",
       "      <td>NaN</td>\n",
       "      <td>NaN</td>\n",
       "      <td>NaN</td>\n",
       "      <td>NaN</td>\n",
       "      <td>NaN</td>\n",
       "    </tr>\n",
       "    <tr>\n",
       "      <th>201180</th>\n",
       "      <td>December 31, 2019</td>\n",
       "      <td>NaN</td>\n",
       "      <td>NaN</td>\n",
       "      <td>NaN</td>\n",
       "      <td>NaN</td>\n",
       "      <td>NaN</td>\n",
       "      <td>NaN</td>\n",
       "      <td>NaN</td>\n",
       "      <td>NaN</td>\n",
       "      <td>NaN</td>\n",
       "      <td>NaN</td>\n",
       "      <td>NaN</td>\n",
       "      <td>NaN</td>\n",
       "      <td>NaN</td>\n",
       "      <td>NaN</td>\n",
       "      <td>NaN</td>\n",
       "    </tr>\n",
       "    <tr>\n",
       "      <th>201181</th>\n",
       "      <td>NaN</td>\n",
       "      <td>NaN</td>\n",
       "      <td>NaN</td>\n",
       "      <td>NaN</td>\n",
       "      <td>NaN</td>\n",
       "      <td>NaN</td>\n",
       "      <td>NaN</td>\n",
       "      <td>NaN</td>\n",
       "      <td>NaN</td>\n",
       "      <td>NaN</td>\n",
       "      <td>NaN</td>\n",
       "      <td>NaN</td>\n",
       "      <td>NaN</td>\n",
       "      <td>NaN</td>\n",
       "      <td>NaN</td>\n",
       "      <td>NaN</td>\n",
       "    </tr>\n",
       "    <tr>\n",
       "      <th>201182</th>\n",
       "      <td>NaN</td>\n",
       "      <td>NaN</td>\n",
       "      <td>NaN</td>\n",
       "      <td>NaN</td>\n",
       "      <td>NaN</td>\n",
       "      <td>NaN</td>\n",
       "      <td>NaN</td>\n",
       "      <td>NaN</td>\n",
       "      <td>NaN</td>\n",
       "      <td>NaN</td>\n",
       "      <td>NaN</td>\n",
       "      <td>NaN</td>\n",
       "      <td>NaN</td>\n",
       "      <td>NaN</td>\n",
       "      <td>NaN</td>\n",
       "      <td>NaN</td>\n",
       "    </tr>\n",
       "  </tbody>\n",
       "</table>\n",
       "<p>201183 rows × 16 columns</p>\n",
       "</div>"
      ],
      "text/plain": [
       "               approxdate attacktype2_txt attacktype3_txt corp3 gsubname2  \\\n",
       "0                     NaN             NaN             NaN   NaN       NaN   \n",
       "1                     NaN             NaN             NaN   NaN       NaN   \n",
       "2                     NaN             NaN             NaN   NaN       NaN   \n",
       "3                     NaN             NaN             NaN   NaN       NaN   \n",
       "4                     NaN             NaN             NaN   NaN       NaN   \n",
       "...                   ...             ...             ...   ...       ...   \n",
       "201178  December 31, 2019             NaN             NaN   NaN       NaN   \n",
       "201179                NaN             NaN             NaN   NaN       NaN   \n",
       "201180  December 31, 2019             NaN             NaN   NaN       NaN   \n",
       "201181                NaN             NaN             NaN   NaN       NaN   \n",
       "201182                NaN             NaN             NaN   NaN       NaN   \n",
       "\n",
       "       gname3 gsubname3 claimmode2_txt claimmode3_txt weaptype3_txt  \\\n",
       "0         NaN       NaN            NaN            NaN           NaN   \n",
       "1         NaN       NaN            NaN            NaN           NaN   \n",
       "2         NaN       NaN            NaN            NaN           NaN   \n",
       "3         NaN       NaN            NaN            NaN           NaN   \n",
       "4         NaN       NaN            NaN            NaN           NaN   \n",
       "...       ...       ...            ...            ...           ...   \n",
       "201178    NaN       NaN            NaN            NaN           NaN   \n",
       "201179    NaN       NaN            NaN            NaN           NaN   \n",
       "201180    NaN       NaN            NaN            NaN           NaN   \n",
       "201181    NaN       NaN            NaN            NaN           NaN   \n",
       "201182    NaN       NaN            NaN            NaN           NaN   \n",
       "\n",
       "       weapsubtype3_txt weaptype4_txt weapsubtype4_txt divert kidhijcountry  \\\n",
       "0                   NaN           NaN              NaN    NaN           NaN   \n",
       "1                   NaN           NaN              NaN    NaN        Mexico   \n",
       "2                   NaN           NaN              NaN    NaN           NaN   \n",
       "3                   NaN           NaN              NaN    NaN           NaN   \n",
       "4                   NaN           NaN              NaN    NaN           NaN   \n",
       "...                 ...           ...              ...    ...           ...   \n",
       "201178              NaN           NaN              NaN    NaN           NaN   \n",
       "201179              NaN           NaN              NaN    NaN           NaN   \n",
       "201180              NaN           NaN              NaN    NaN           NaN   \n",
       "201181              NaN           NaN              NaN    NaN           NaN   \n",
       "201182              NaN           NaN              NaN    NaN           NaN   \n",
       "\n",
       "       ransomnote  \n",
       "0             NaN  \n",
       "1             NaN  \n",
       "2             NaN  \n",
       "3             NaN  \n",
       "4             NaN  \n",
       "...           ...  \n",
       "201178        NaN  \n",
       "201179        NaN  \n",
       "201180        NaN  \n",
       "201181        NaN  \n",
       "201182        NaN  \n",
       "\n",
       "[201183 rows x 16 columns]"
      ]
     },
     "execution_count": 24,
     "metadata": {},
     "output_type": "execute_result"
    }
   ],
   "source": [
    "gtd.iloc[:, [4,31,33,54,61,62,63,76,79,90,92,94,96,114,115,121]]"
   ]
  },
  {
   "cell_type": "markdown",
   "id": "bb7cf429",
   "metadata": {},
   "source": [
    "These are the columns I have received warnings about. I will have to clean the na values in these columns."
   ]
  },
  {
   "cell_type": "markdown",
   "id": "ad9dc740",
   "metadata": {},
   "source": [
    "## 1.1 Sampling"
   ]
  },
  {
   "cell_type": "markdown",
   "id": "4d05bd09",
   "metadata": {},
   "source": [
    "### Subsetting Dataset"
   ]
  },
  {
   "cell_type": "code",
   "execution_count": 4,
   "id": "307e8846",
   "metadata": {},
   "outputs": [],
   "source": [
    "#subset data where region != NaN\n",
    "gtd = gtd.loc[gtd[\"attacktype1\"] != 9]"
   ]
  },
  {
   "cell_type": "markdown",
   "id": "f82a61c5",
   "metadata": {},
   "source": [
    "Since I am predicting attack types, I must subset the data to exclude any rows where the target is an na value."
   ]
  },
  {
   "cell_type": "code",
   "execution_count": 5,
   "id": "8c5f7133",
   "metadata": {},
   "outputs": [
    {
     "data": {
      "text/plain": [
       "191593"
      ]
     },
     "execution_count": 5,
     "metadata": {},
     "output_type": "execute_result"
    }
   ],
   "source": [
    "len(gtd)"
   ]
  },
  {
   "cell_type": "markdown",
   "id": "8565f0ef",
   "metadata": {},
   "source": [
    "I am left with 191,953 rows."
   ]
  },
  {
   "cell_type": "code",
   "execution_count": 37,
   "id": "dc924215",
   "metadata": {},
   "outputs": [
    {
     "name": "stdout",
     "output_type": "stream",
     "text": [
      "There are 8 types of attacks terrorists carry out\n"
     ]
    },
    {
     "data": {
      "text/plain": [
       "Bombing/Explosion                      95402\n",
       "Armed Assault                          47419\n",
       "Assassination                          20897\n",
       "Hostage Taking (Kidnapping)            13198\n",
       "Facility/Infrastructure Attack         11636\n",
       "Unarmed Assault                         1183\n",
       "Hostage Taking (Barricade Incident)     1124\n",
       "Hijacking                                734\n",
       "Name: attacktype1_txt, dtype: int64"
      ]
     },
     "execution_count": 37,
     "metadata": {},
     "output_type": "execute_result"
    },
    {
     "data": {
      "image/png": "[encoded data removed]",
      "text/plain": [
       "<Figure size 432x288 with 1 Axes>"
      ]
     },
     "metadata": {},
     "output_type": "display_data"
    }
   ],
   "source": [
    "#Plot distribution of target class\n",
    "ax = gtd.attacktype1_txt.value_counts().plot(kind='barh')\n",
    "ax.set_xscale('log')\n",
    "ax.set_xlabel(\"logged number of attacks\")\n",
    "ax.set_title(\"Distribution of Attacks by Type\")\n",
    "n_types = len(gtd[\"attacktype1\"].value_counts())\n",
    "print(f\"There are {n_types} types of attacks terrorists carry out\")\n",
    "gtd[\"attacktype1_txt\"].value_counts()"
   ]
  },
  {
   "cell_type": "markdown",
   "id": "508a01be",
   "metadata": {},
   "source": [
    "We can see that the majority of attacks carried out by terrorists are bombings whilst hijackings are the least common types of attacks. The dataset is heavily unbalanced and this is something we will have to adjust for in our machine learning model."
   ]
  },
  {
   "cell_type": "markdown",
   "id": "77bbb226",
   "metadata": {},
   "source": [
    "## 1.2 Data Cleaning"
   ]
  },
  {
   "cell_type": "markdown",
   "id": "f0f66ca9",
   "metadata": {},
   "source": [
    "### Create Additional Columns"
   ]
  },
  {
   "cell_type": "markdown",
   "id": "87df4691",
   "metadata": {},
   "source": [
    "I reformat some of my columns to capture relevant information. \n",
    "\n",
    "1. Instead of having the start and end dates for a conflict, I calculate the duration between dates whilst also keeping the start date. This is because the duration of an attack captures the information between these two columns better than just the start or end date.\n",
    "\n",
    "2. Instead of having a \"related\" column with a string listing the related terrorist attacks, I count the number of related attacks. E.g \"attack1; attack2; attack3\" becomes 3.\n",
    "\n",
    "3. I replace several columns with -9, 0, 1 labels to Unknown, No and Yes respectively. The entries in this column do not have an order to them so it is more helpful to turn them into strings for one hot encoding.\n",
    "\n",
    "4. Some numerical columns use either -99 or -9 to denote unknown values. I change both of these to -1 since thse columns do not contain negative values. -1 now indicates the presence of unknowns.\n",
    "\n",
    "These feature names might be confusing but I provide a detailed description in the next few cells."
   ]
  },
  {
   "cell_type": "code",
   "execution_count": 6,
   "id": "16b4ae34",
   "metadata": {},
   "outputs": [],
   "source": [
    "#convert resolution to a datetime format\n",
    "gtd[\"resolution\"] = pd.to_datetime(gtd[\"resolution\"], format=\"%d/%m/%Y\")\n",
    "\n",
    "#we convert our datetime values to get a sense of the duration of conflicts\n",
    "gtd[\"duration\"] = gtd.apply (lambda row: util.duration_calculator(row), axis=1)\n",
    "\n",
    "#for these variables we convert the categorical numerical into a categorical string variable\n",
    "gtd[\"doubtterr\"] = gtd.apply(lambda row: util.num_to_string_encoder(row, \"doubtterr\"), axis=1)\n",
    "gtd[\"compclaim\"] = gtd.apply(lambda row: util.num_to_string_encoder(row, \"compclaim\"), axis=1)\n",
    "gtd[\"claimed\"] = gtd.apply(lambda row: util.num_to_string_encoder(row, \"claimed\"), axis=1)\n",
    "gtd[\"claim2\"] = gtd.apply(lambda row: util.num_to_string_encoder(row, \"claim2\"), axis=1)\n",
    "gtd[\"claim3\"] = gtd.apply(lambda row: util.num_to_string_encoder(row, \"claim3\"), axis=1)\n",
    "gtd[\"property\"] = gtd.apply(lambda row: util.num_to_string_encoder(row, \"property\"), axis=1)\n",
    "gtd[\"ishostkid\"] = gtd.apply(lambda row: util.num_to_string_encoder(row, \"ishostkid\"), axis=1)\n",
    "gtd[\"ransom\"] = gtd.apply(lambda row: util.num_to_string_encoder(row, \"ransom\"), axis=1)\n",
    "\n",
    "#for the related column we count the number of incidents\n",
    "gtd[\"related\"] = gtd.apply(lambda row: util.text_counter(row, \"related\"), axis=1)\n",
    "\n",
    "#Replace any remaining negative numbers that denote \"Unknown\" values with -1\n",
    "gtd = gtd.replace([-99.0, -9], -1)"
   ]
  },
  {
   "cell_type": "markdown",
   "id": "400405f3",
   "metadata": {},
   "source": [
    "### Drop unnecessary columns"
   ]
  },
  {
   "cell_type": "markdown",
   "id": "eab07d89",
   "metadata": {},
   "source": [
    "Next I drop all unnecessary columns. These columns fall into one of two categories:\n",
    "\n",
    "1. Columns with unique values for each row\n",
    "2. Columns that already have information captured in other columns. For example, claimmode and claimmode_txt are numerical and string encodings of the same information. I keep the more appropriate column and drop the other to avoid duplicates. If there is an order to the data I keep the numbered encodings, otherwise I keep the text for one hot encoding.\n",
    "\n",
    "Here is a full list with justifications:\n",
    " - eventid: unique id for each event\n",
    " - approxdate: approximate date each event started (already captured in year/month/day columns)\n",
    " - resolution: data the incident was resolved. Already captured in my duration column that indicates how long attacks lasted since start date.\n",
    " - summary: text column containing descriptions of the attack. This will contain information on the type of attack so I remove it.\n",
    " - country: country codes I remove in favor of country_txt\n",
    " - location: unique value for each column (e.g. \"a street corner on 625 w jackson boulevard\")\n",
    " - attacktype columns since these contain text descriptions of the attack type. Also since I am only predicting the main attacktype, I remove attacktype2 and attacktyp3.\n",
    " - weaptype columns containing type of weapons used. I discard the numerical in favor of the categorical weaptype_txt\n",
    " - same for weapsubtype\n",
    " - weapdetail: unique descriptions for each weapon\n",
    " - targtype columns: Describes the target that was attacked. I discard numerical and keep categorical targtype_txt columns\n",
    " - same for targsubtype: describes the sub target of the target type identified.\n",
    " - claimmode: How terrorists claimed responsibility for attacks. I use the categorical claimmode_txt instead.\n",
    " - motive: unique motivations for each attack\n",
    " - propextent_txt: category for extent of property damge. The numerically encoded propextent makes more sense since there are varying degrees of property damage.\n",
    " - propcomment: unique descriptions for property damages.\n",
    " - divert: unique descriptions for hostage taking.\n",
    " - ransomenote: unique descriptions for ransom notes received\n",
    " - hostkidoutcome: outcome of kidnappings. discarded in favour of categorical hostkidoutcome_txt.\n",
    " - natlty: nationality of perpetrators. discarded in favour of categorical natlty_txt.\n",
    " - provstate, city, corp1, corp2, corp3, city all contain unique values.\n",
    " - target1, target2, target3: unique descriptions for each target (e.g. \"US embassy building in New York\")"
   ]
  },
  {
   "cell_type": "code",
   "execution_count": 7,
   "id": "330ab31b",
   "metadata": {},
   "outputs": [],
   "source": [
    "gtd_drop = gtd.drop(columns=[\"eventid\", \"approxdate\", \"resolution\", \"summary\", \"alternative\", \"country\",\n",
    "                             \"location\", \"attacktype1_txt\", \"attacktype2\", \"attacktype3\", \"attacktype2_txt\",\n",
    "                             \"weaptype1\", \"weaptype2\", \"weaptype3\", \"weaptype4\", \"weapsubtype1\", \"weapsubtype2\",\n",
    "                             \"weapsubtype3\", \"weapsubtype4\", \"weapdetail\", \"targtype1\", \"targtype2\",\n",
    "                             \"targtype3\", \"targsubtype1\", \"targsubtype2\", \"targsubtype3\", \"claimmode\", \n",
    "                             \"claimmode2\", \"claimmode3\", \"motive\", \"propextent_txt\", \"propcomment\", \"divert\",\n",
    "                             \"ransomnote\", \"hostkidoutcome\", \"addnotes\", \"scite1\", \"scite2\", \"scite3\", \"dbsource\",\n",
    "                             \"natlty1\", \"natlty2\", \"natlty3\", \"provstate\", \"city\", \"corp1\", \"corp2\", \"corp3\", \n",
    "                             \"target1\", \"target2\", \"target3\", \"city\",\"attacktype3_txt\", \"region\"])"
   ]
  },
  {
   "cell_type": "code",
   "execution_count": 8,
   "id": "39a7ce41",
   "metadata": {},
   "outputs": [
    {
     "data": {
      "text/html": [
       "<div>\n",
       "<style scoped>\n",
       "    .dataframe tbody tr th:only-of-type {\n",
       "        vertical-align: middle;\n",
       "    }\n",
       "\n",
       "    .dataframe tbody tr th {\n",
       "        vertical-align: top;\n",
       "    }\n",
       "\n",
       "    .dataframe thead th {\n",
       "        text-align: right;\n",
       "    }\n",
       "</style>\n",
       "<table border=\"1\" class=\"dataframe\">\n",
       "  <thead>\n",
       "    <tr style=\"text-align: right;\">\n",
       "      <th></th>\n",
       "      <th>iyear</th>\n",
       "      <th>imonth</th>\n",
       "      <th>iday</th>\n",
       "      <th>extended</th>\n",
       "      <th>country_txt</th>\n",
       "      <th>region_txt</th>\n",
       "      <th>latitude</th>\n",
       "      <th>longitude</th>\n",
       "      <th>specificity</th>\n",
       "      <th>vicinity</th>\n",
       "      <th>...</th>\n",
       "      <th>ransompaid</th>\n",
       "      <th>ransompaidus</th>\n",
       "      <th>hostkidoutcome_txt</th>\n",
       "      <th>nreleased</th>\n",
       "      <th>INT_LOG</th>\n",
       "      <th>INT_IDEO</th>\n",
       "      <th>INT_MISC</th>\n",
       "      <th>INT_ANY</th>\n",
       "      <th>related</th>\n",
       "      <th>duration</th>\n",
       "    </tr>\n",
       "  </thead>\n",
       "  <tbody>\n",
       "    <tr>\n",
       "      <th>0</th>\n",
       "      <td>1970</td>\n",
       "      <td>7</td>\n",
       "      <td>2</td>\n",
       "      <td>0</td>\n",
       "      <td>Dominican Republic</td>\n",
       "      <td>Central America &amp; Caribbean</td>\n",
       "      <td>18.456792</td>\n",
       "      <td>-69.951164</td>\n",
       "      <td>1.0</td>\n",
       "      <td>0</td>\n",
       "      <td>...</td>\n",
       "      <td>NaN</td>\n",
       "      <td>NaN</td>\n",
       "      <td>NaN</td>\n",
       "      <td>NaN</td>\n",
       "      <td>0</td>\n",
       "      <td>0</td>\n",
       "      <td>0</td>\n",
       "      <td>0</td>\n",
       "      <td>0</td>\n",
       "      <td>0.0</td>\n",
       "    </tr>\n",
       "    <tr>\n",
       "      <th>1</th>\n",
       "      <td>1970</td>\n",
       "      <td>0</td>\n",
       "      <td>0</td>\n",
       "      <td>0</td>\n",
       "      <td>Mexico</td>\n",
       "      <td>North America</td>\n",
       "      <td>19.371887</td>\n",
       "      <td>-99.086624</td>\n",
       "      <td>1.0</td>\n",
       "      <td>0</td>\n",
       "      <td>...</td>\n",
       "      <td>NaN</td>\n",
       "      <td>NaN</td>\n",
       "      <td>NaN</td>\n",
       "      <td>NaN</td>\n",
       "      <td>0</td>\n",
       "      <td>1</td>\n",
       "      <td>1</td>\n",
       "      <td>1</td>\n",
       "      <td>0</td>\n",
       "      <td>0.0</td>\n",
       "    </tr>\n",
       "    <tr>\n",
       "      <th>2</th>\n",
       "      <td>1970</td>\n",
       "      <td>1</td>\n",
       "      <td>0</td>\n",
       "      <td>0</td>\n",
       "      <td>Philippines</td>\n",
       "      <td>Southeast Asia</td>\n",
       "      <td>15.478598</td>\n",
       "      <td>120.599741</td>\n",
       "      <td>4.0</td>\n",
       "      <td>0</td>\n",
       "      <td>...</td>\n",
       "      <td>NaN</td>\n",
       "      <td>NaN</td>\n",
       "      <td>NaN</td>\n",
       "      <td>NaN</td>\n",
       "      <td>-1</td>\n",
       "      <td>-1</td>\n",
       "      <td>1</td>\n",
       "      <td>1</td>\n",
       "      <td>0</td>\n",
       "      <td>0.0</td>\n",
       "    </tr>\n",
       "    <tr>\n",
       "      <th>3</th>\n",
       "      <td>1970</td>\n",
       "      <td>1</td>\n",
       "      <td>0</td>\n",
       "      <td>0</td>\n",
       "      <td>Greece</td>\n",
       "      <td>Western Europe</td>\n",
       "      <td>37.997490</td>\n",
       "      <td>23.762728</td>\n",
       "      <td>1.0</td>\n",
       "      <td>0</td>\n",
       "      <td>...</td>\n",
       "      <td>NaN</td>\n",
       "      <td>NaN</td>\n",
       "      <td>NaN</td>\n",
       "      <td>NaN</td>\n",
       "      <td>-1</td>\n",
       "      <td>-1</td>\n",
       "      <td>1</td>\n",
       "      <td>1</td>\n",
       "      <td>0</td>\n",
       "      <td>0.0</td>\n",
       "    </tr>\n",
       "    <tr>\n",
       "      <th>4</th>\n",
       "      <td>1970</td>\n",
       "      <td>1</td>\n",
       "      <td>0</td>\n",
       "      <td>0</td>\n",
       "      <td>Japan</td>\n",
       "      <td>East Asia</td>\n",
       "      <td>33.580412</td>\n",
       "      <td>130.396361</td>\n",
       "      <td>1.0</td>\n",
       "      <td>0</td>\n",
       "      <td>...</td>\n",
       "      <td>NaN</td>\n",
       "      <td>NaN</td>\n",
       "      <td>NaN</td>\n",
       "      <td>NaN</td>\n",
       "      <td>-1</td>\n",
       "      <td>-1</td>\n",
       "      <td>1</td>\n",
       "      <td>1</td>\n",
       "      <td>0</td>\n",
       "      <td>0.0</td>\n",
       "    </tr>\n",
       "  </tbody>\n",
       "</table>\n",
       "<p>5 rows × 83 columns</p>\n",
       "</div>"
      ],
      "text/plain": [
       "   iyear  imonth  iday  extended         country_txt  \\\n",
       "0   1970       7     2         0  Dominican Republic   \n",
       "1   1970       0     0         0              Mexico   \n",
       "2   1970       1     0         0         Philippines   \n",
       "3   1970       1     0         0              Greece   \n",
       "4   1970       1     0         0               Japan   \n",
       "\n",
       "                    region_txt   latitude   longitude  specificity  vicinity  \\\n",
       "0  Central America & Caribbean  18.456792  -69.951164          1.0         0   \n",
       "1                North America  19.371887  -99.086624          1.0         0   \n",
       "2               Southeast Asia  15.478598  120.599741          4.0         0   \n",
       "3               Western Europe  37.997490   23.762728          1.0         0   \n",
       "4                    East Asia  33.580412  130.396361          1.0         0   \n",
       "\n",
       "   ...  ransompaid  ransompaidus  hostkidoutcome_txt nreleased INT_LOG  \\\n",
       "0  ...         NaN           NaN                 NaN       NaN       0   \n",
       "1  ...         NaN           NaN                 NaN       NaN       0   \n",
       "2  ...         NaN           NaN                 NaN       NaN      -1   \n",
       "3  ...         NaN           NaN                 NaN       NaN      -1   \n",
       "4  ...         NaN           NaN                 NaN       NaN      -1   \n",
       "\n",
       "   INT_IDEO  INT_MISC  INT_ANY  related duration  \n",
       "0         0         0        0        0      0.0  \n",
       "1         1         1        1        0      0.0  \n",
       "2        -1         1        1        0      0.0  \n",
       "3        -1         1        1        0      0.0  \n",
       "4        -1         1        1        0      0.0  \n",
       "\n",
       "[5 rows x 83 columns]"
      ]
     },
     "execution_count": 8,
     "metadata": {},
     "output_type": "execute_result"
    }
   ],
   "source": [
    "gtd_drop.head()"
   ]
  },
  {
   "cell_type": "code",
   "execution_count": 9,
   "id": "a15c6aee",
   "metadata": {},
   "outputs": [
    {
     "name": "stdout",
     "output_type": "stream",
     "text": [
      "<class 'pandas.core.frame.DataFrame'>\n",
      "Int64Index: 191593 entries, 0 to 201182\n",
      "Data columns (total 83 columns):\n",
      " #   Column              Non-Null Count   Dtype  \n",
      "---  ------              --------------   -----  \n",
      " 0   iyear               191593 non-null  int64  \n",
      " 1   imonth              191593 non-null  int64  \n",
      " 2   iday                191593 non-null  int64  \n",
      " 3   extended            191593 non-null  int64  \n",
      " 4   country_txt         191593 non-null  object \n",
      " 5   region_txt          191593 non-null  object \n",
      " 6   latitude            187328 non-null  float64\n",
      " 7   longitude           187327 non-null  float64\n",
      " 8   specificity         191592 non-null  float64\n",
      " 9   vicinity            191593 non-null  int64  \n",
      " 10  crit1               191593 non-null  int64  \n",
      " 11  crit2               191593 non-null  int64  \n",
      " 12  crit3               191593 non-null  int64  \n",
      " 13  doubtterr           191593 non-null  object \n",
      " 14  alternative_txt     29944 non-null   object \n",
      " 15  multiple            191593 non-null  int64  \n",
      " 16  success             191593 non-null  int64  \n",
      " 17  suicide             191593 non-null  int64  \n",
      " 18  attacktype1         191593 non-null  int64  \n",
      " 19  targtype1_txt       191593 non-null  object \n",
      " 20  targsubtype1_txt    180342 non-null  object \n",
      " 21  natlty1_txt         189826 non-null  object \n",
      " 22  targtype2_txt       12611 non-null   object \n",
      " 23  targsubtype2_txt    12144 non-null   object \n",
      " 24  natlty2_txt         12296 non-null   object \n",
      " 25  targtype3_txt       1397 non-null    object \n",
      " 26  targsubtype3_txt    1317 non-null    object \n",
      " 27  natlty3_txt         1369 non-null    object \n",
      " 28  gname               191593 non-null  object \n",
      " 29  gsubname            6487 non-null    object \n",
      " 30  gname2              2262 non-null    object \n",
      " 31  gsubname2           170 non-null     object \n",
      " 32  gname3              376 non-null     object \n",
      " 33  gsubname3           20 non-null      object \n",
      " 34  guncertain1         191232 non-null  float64\n",
      " 35  guncertain2         2227 non-null    float64\n",
      " 36  guncertain3         372 non-null     float64\n",
      " 37  individual          191593 non-null  int64  \n",
      " 38  nperps              122911 non-null  float64\n",
      " 39  nperpcap            124779 non-null  float64\n",
      " 40  claimed             191593 non-null  object \n",
      " 41  claimmode_txt       22005 non-null   object \n",
      " 42  claim2              191593 non-null  object \n",
      " 43  claimmode2_txt      703 non-null     object \n",
      " 44  claim3              191593 non-null  object \n",
      " 45  claimmode3_txt      133 non-null     object \n",
      " 46  compclaim           191593 non-null  object \n",
      " 47  weaptype1_txt       191593 non-null  object \n",
      " 48  weapsubtype1_txt    177000 non-null  object \n",
      " 49  weaptype2_txt       15268 non-null   object \n",
      " 50  weapsubtype2_txt    13382 non-null   object \n",
      " 51  weaptype3_txt       2218 non-null    object \n",
      " 52  weapsubtype3_txt    2006 non-null    object \n",
      " 53  weaptype4_txt       73 non-null      object \n",
      " 54  weapsubtype4_txt    70 non-null      object \n",
      " 55  nkill               180733 non-null  float64\n",
      " 56  nkillus             129654 non-null  float64\n",
      " 57  nkillter            127152 non-null  float64\n",
      " 58  nwound              174342 non-null  float64\n",
      " 59  nwoundus            129394 non-null  float64\n",
      " 60  nwoundte            124931 non-null  float64\n",
      " 61  property            191593 non-null  object \n",
      " 62  propextent          69239 non-null   float64\n",
      " 63  propvalue           44728 non-null   float64\n",
      " 64  ishostkid           191593 non-null  object \n",
      " 65  nhostkid            15693 non-null   float64\n",
      " 66  nhostkidus          15638 non-null   float64\n",
      " 67  nhours              4686 non-null    float64\n",
      " 68  ndays               9672 non-null    float64\n",
      " 69  kidhijcountry       3292 non-null    object \n",
      " 70  ransom              191593 non-null  object \n",
      " 71  ransomamt           1483 non-null    float64\n",
      " 72  ransomamtus         690 non-null     float64\n",
      " 73  ransompaid          906 non-null     float64\n",
      " 74  ransompaidus        678 non-null     float64\n",
      " 75  hostkidoutcome_txt  13175 non-null   object \n",
      " 76  nreleased           12585 non-null   float64\n",
      " 77  INT_LOG             191593 non-null  int64  \n",
      " 78  INT_IDEO            191593 non-null  int64  \n",
      " 79  INT_MISC            191593 non-null  int64  \n",
      " 80  INT_ANY             191593 non-null  int64  \n",
      " 81  related             191593 non-null  int64  \n",
      " 82  duration            186307 non-null  float64\n",
      "dtypes: float64(26), int64(18), object(39)\n",
      "memory usage: 122.8+ MB\n"
     ]
    }
   ],
   "source": [
    "gtd_drop.info()"
   ]
  },
  {
   "cell_type": "markdown",
   "id": "82f197de",
   "metadata": {},
   "source": [
    "My final dataframe has 84 columns, 39 are categorical, 26 are numeric continuous and 18 are numeric categorical.\n",
    "\n",
    "Full descriptions can be found in the codebook and also here:\n",
    "\n",
    " - iyear, imonth, iday: year, month and day\n",
    " - extended: did incident last more than 1 day?\n",
    " - country_txt: name of country incident occurred in.\n",
    " - region_txt: name of region incident occurred in.\n",
    " - latitude, longitude of incident\n",
    " - specificity: how certain are we of the location of attack\n",
    " - vicinity: did the attack occur near a city\n",
    " - crit1: did the attack have a political, economic, or social goal?\n",
    " - crit2: was there an intent to intimidate or coerce a larger audience?\n",
    " - crit3: did the incident violate international humanitarian law?\n",
    " - doubtterr: is there any doubt that this was a terrorist attack?\n",
    " - alternative_txt: if there is doubt, what could the alternative be? (e.g. crime)\n",
    " - multiple: is this a part of multiple incidents\n",
    " - success: did the attackers succeed?\n",
    " - suicide: was suicide terrorism involved?\n",
    " - attacktype1: type of attack (target column)\n",
    " - targtype, targsubtype: the type of target and sub-target (e.g. \"government building\", \"millitary base\")\n",
    " - natlty: nationality of perpetrators\n",
    " - gname, gsubname: name of groups and sub-groups involved (e.g. \"Hezbollah\", \"Al-Qaeda\")\n",
    " - guncertain: is there uncertainty over which group was involved?\n",
    " - individual: were individuals unaffiliated with the identified group involved?\n",
    " - nperps, nperpscap: number of terrorists involved and captured\n",
    " - claimed, claimmode: was there a claim of responsibility? If so, how was the claim mode? (e.g. phone call)\n",
    " - weaptyp, weapsubtype: type and subtype of weapon used\n",
    " - nkill, nkillus, nkillter: number killed, number of americans killed, number of terrorists killed\n",
    " - nwound, nwoundus, nwoundter: same as above but for wounded\n",
    " - property, propextent, propvalue: was there property damage? to what extent? what is the dollar value?\n",
    " - ishostkid, nhostkid, nhostkidus: were hostages taken or did kidnapping occur? how many? how many from the US?\n",
    " - nhours, ndays: how long did the hostage situation or kidnapping last?\n",
    " - kidhijcountry: which country was the hostage taking or kidnapping incident resolved in?\n",
    " - ransom, ransomamt, ransomamtus, ransompaid, randsompaidus: was a ransom asked for? how much? how much in usd? how much was paid? how much was paid in usd?\n",
    " - hostkidoutcome_txt: what was the outcome of the hostage taking/kidnapping?\n",
    " - nreleased: how many were released?\n",
    " - INT_LOG: did terrorists cross a border to carry out attack?\n",
    " - INT_IDEO: was the nationality of the terrorists differ from the nationality of the target?\n",
    " - INT_MISC: was the nationality of the terrorists differ from the nationality of the victim?\n",
    " - INT_ANY: was it completely international on the above three features?\n",
    " - related: number of related incidents\n",
    " - duratioon: how long did incident last\n",
    " \n",
    "Note: I include the kidnapping/hostage taking columns because sometimes groups do not intend to take hostages. For example, in an armed assault gone wrong, hostages might be taken as a last minute gambit. These columns help differentiate between these cases and explicit kidnappings etc."
   ]
  },
  {
   "cell_type": "markdown",
   "id": "95396177",
   "metadata": {},
   "source": [
    "### Fill NA values, perform onehot encoding and scale"
   ]
  },
  {
   "cell_type": "markdown",
   "id": "cce1e746",
   "metadata": {},
   "source": [
    "Now I use sklearn pipes and preprocessing methods to fill in na values for numerical features and perform one hot encoding on categorical features. Beside each column containing an na value, we create another column encoding the presence of na values so that our classifier can differentiate between cells with NA values and cells without.\n",
    "\n",
    "I scale all my columns to a (0, 1) range. This will allow for smoother implementation using stochastic averge gradient with the Logistic Regression.\n",
    "\n",
    "I also add parameter sparse=True during one-hot encoding so that my resultant numpy array does not take up too much memory."
   ]
  },
  {
   "cell_type": "code",
   "execution_count": 10,
   "id": "76e098ca",
   "metadata": {},
   "outputs": [],
   "source": [
    "#Separate data into predictor and outcome\n",
    "X = gtd_drop.drop(\"attacktype1\", axis=1)\n",
    "y = gtd_drop.attacktype1\n",
    "\n",
    "#Seperate numerical ordinal, numerical continuous and categorical features\n",
    "numerical_features = X.select_dtypes(include='number').columns.tolist()\n",
    "categorical_features = X.select_dtypes(exclude='number').columns.tolist()\n",
    "numerical_continuous = [\"ransompaid\", \"ransompaidus\", \"nreleased\", \"nperps\",\n",
    "                        \"nperpcap\", \"nkill\", \"nkillus\", \"nkillter\", \"nwound\",\n",
    "                        \"nwoundus\", \"nwoundte\", \"propvalue\", \"nhostkid\", \"nhostkidus\",\n",
    "                        \"ransomamt\", 'ransomamtus', 'ransompaid', 'ransompaidus', \n",
    "                        'nreleased', \"related\", \"duration\"]\n",
    "numerical_ordinal = [feature for feature in numerical_features if feature not in numerical_continuous]\n",
    "\n",
    "#create pipelines for feature representation\n",
    "\n",
    "#for continuous features we fill na with 0\n",
    "numconti_pipeline = Pipeline(steps=[(\"scale\", MinMaxScaler()),\n",
    "                                    (\"fillna\", SimpleImputer(missing_values=np.nan,\n",
    "                                                              strategy=\"constant\",\n",
    "                                                              fill_value=0,\n",
    "                                                              add_indicator=True))])\n",
    "\n",
    "#for ordinal features we fill na with -1, same as for values that are unknown\n",
    "numord_pipeline = Pipeline(steps=[(\"scale\", MinMaxScaler()),\n",
    "                                    (\"fillna\", SimpleImputer(missing_values=np.nan,\n",
    "                                                              strategy=\"constant\",\n",
    "                                                              fill_value=-1,\n",
    "                                                              add_indicator=True))])\n",
    "\n",
    "#for categorical features we fillna and perform one hot encoding\n",
    "categorical_pipeline = Pipeline(steps=[(\"fillna\", SimpleImputer(missing_values=np.nan,\n",
    "                                                                strategy=\"constant\",\n",
    "                                                                fill_value=\"None\",\n",
    "                                                                add_indicator=True)),\n",
    "                                        ('one-hot', OneHotEncoder(handle_unknown='ignore',\n",
    "                                                                 sparse=True))])\n",
    "\n",
    "#integrate both pipelines\n",
    "full_processor = ColumnTransformer(transformers=[\n",
    "    (\"numconti\", numconti_pipeline, numerical_continuous),\n",
    "    (\"numord\", numord_pipeline, numerical_ordinal),\n",
    "    ('category', categorical_pipeline, categorical_features)\n",
    "])\n",
    "\n",
    "#perform feature representation on all X\n",
    "X = full_processor.fit_transform(X)"
   ]
  },
  {
   "cell_type": "code",
   "execution_count": 11,
   "id": "87387a13",
   "metadata": {},
   "outputs": [
    {
     "data": {
      "text/plain": [
       "(191593, 7136)"
      ]
     },
     "execution_count": 11,
     "metadata": {},
     "output_type": "execute_result"
    }
   ],
   "source": [
    "X.shape"
   ]
  },
  {
   "cell_type": "markdown",
   "id": "8ceb3bb1",
   "metadata": {},
   "source": [
    "Our end dataframe has 7136 features we can use to predict the target class."
   ]
  },
  {
   "cell_type": "markdown",
   "id": "d940dd7e",
   "metadata": {},
   "source": [
    "## 1.4 Train, Test Split"
   ]
  },
  {
   "cell_type": "markdown",
   "id": "cfd35fee",
   "metadata": {},
   "source": [
    "I don't want to use the preprocessed matrix X in my model. Instead, I want to create a unified pipeline that will preprocess and train the model. Thus, I reset my X and y. \n",
    "\n",
    "Additionally, I only want to fit my preprocessor on the training data and only transform the testing data. The aim is to not have any information leakage."
   ]
  },
  {
   "cell_type": "code",
   "execution_count": 12,
   "id": "41f3d840",
   "metadata": {},
   "outputs": [],
   "source": [
    "X = gtd_drop.drop(\"attacktype1\", axis=1)\n",
    "y = gtd_drop.attacktype1"
   ]
  },
  {
   "cell_type": "markdown",
   "id": "40aac158",
   "metadata": {},
   "source": [
    "I split my data into training and testing sets."
   ]
  },
  {
   "cell_type": "code",
   "execution_count": 13,
   "id": "3f7ea556",
   "metadata": {},
   "outputs": [],
   "source": [
    "X_train, X_test, y_train, y_test = train_test_split(X, y, test_size = 0.3, random_state = 42)"
   ]
  },
  {
   "cell_type": "code",
   "execution_count": 96,
   "id": "5e8d2b22",
   "metadata": {},
   "outputs": [
    {
     "data": {
      "text/plain": [
       "Text(0.5, 1.0, 'Distribution of Attack Types in Training Data')"
      ]
     },
     "execution_count": 96,
     "metadata": {},
     "output_type": "execute_result"
    },
    {
     "data": {
      "image/png": "[encoded data removed]",
      "text/plain": [
       "<Figure size 432x288 with 1 Axes>"
      ]
     },
     "metadata": {},
     "output_type": "display_data"
    }
   ],
   "source": [
    "#Plot distribution of target class\n",
    "ax = y_train.value_counts().plot(kind='barh')\n",
    "ax.set_xscale(\"log\")\n",
    "ax.set_xlabel(\"Logged Number of Attacks\")\n",
    "ax.set_title(\"Distribution of Attack Types in Training Data\")"
   ]
  },
  {
   "cell_type": "markdown",
   "id": "14b6f452",
   "metadata": {},
   "source": [
    "The distribution of target classes in my training dataset is largely similar to the full dataframe."
   ]
  },
  {
   "cell_type": "markdown",
   "id": "0683c234",
   "metadata": {},
   "source": [
    "# Part 2: Model Training & Evaluation"
   ]
  },
  {
   "cell_type": "markdown",
   "id": "977c2403",
   "metadata": {},
   "source": [
    "## 2.1 Model Selection"
   ]
  },
  {
   "cell_type": "markdown",
   "id": "3f753b7b",
   "metadata": {},
   "source": [
    "I will be implementing the following models\n",
    "\n",
    "1. Random Forest Classifier\n",
    "2. Logistic Regression using Stochastic Average Gradient\n",
    "3. Linear SVM"
   ]
  },
  {
   "cell_type": "markdown",
   "id": "edf427ab",
   "metadata": {},
   "source": [
    "## 2.2 Parameter Tuning, Validation and Testing"
   ]
  },
  {
   "cell_type": "markdown",
   "id": "ea68c40a",
   "metadata": {},
   "source": [
    "To identify the best combination of parameters for my random forest I run a grid search using different inputs. My grid search here is a randomized grid search that will pick 10 combinations of parameters randomly. This saves time and computing power.\n",
    "\n",
    "The metric I use for evaluation is the f1_weighted score. In the case of attack types, both precision and recall are equally important. For example, if the model predicts a hijacking and it turns out to be a false positive, unnecessary resources are spent preparing for the wrong type of attack. This preparation might be inappropriate for the true attack type which will lead to potentially more death. On the other hand, if the model predicts it will not be a hijacking and it ends up being hijacking, lives will be lost as well.\n",
    "\n",
    "I choose a weighted f1 to get a weighted average of all f1 scores since my dataset is unbalanced."
   ]
  },
  {
   "cell_type": "markdown",
   "id": "72dea2e5",
   "metadata": {},
   "source": [
    "### Random Forest Classifier"
   ]
  },
  {
   "cell_type": "markdown",
   "id": "0d33c1c4",
   "metadata": {},
   "source": [
    "In my Random Forest Classifier, I set class_weight to balanced to weight each target class inversely to its frequency. Additionally, I set n_jobs=-1 to use all of my CPU cores. There are many potential combinations for my grid search so I use a RandomizedSearcbCV that will randomly select a number of combination to execute as specified by n_iter.\n",
    "\n",
    "I set cv=5 for 5-fold cross validation. The total number of fits is 50."
   ]
  },
  {
   "cell_type": "code",
   "execution_count": 50,
   "id": "058fe5e6",
   "metadata": {},
   "outputs": [
    {
     "name": "stdout",
     "output_type": "stream",
     "text": [
      "Fitting 5 folds for each of 10 candidates, totalling 50 fits\n",
      "[Pipeline] ........... (step 1 of 2) Processing preproc, total=   3.3s\n"
     ]
    },
    {
     "name": "stderr",
     "output_type": "stream",
     "text": [
      "[Parallel(n_jobs=-1)]: Using backend ThreadingBackend with 12 concurrent workers.\n"
     ]
    },
    {
     "name": "stdout",
     "output_type": "stream",
     "text": [
      "building tree 1 of 100\n",
      "building tree 2 of 100\n",
      "building tree 3 of 100\n",
      "building tree 4 of 100\n",
      "building tree 5 of 100\n",
      "building tree 6 of 100\n",
      "building tree 7 of 100\n",
      "building tree 8 of 100\n",
      "building tree 9 of 100\n",
      "building tree 10 of 100\n",
      "building tree 11 of 100\n",
      "building tree 12 of 100\n",
      "building tree 13 of 100\n",
      "building tree 14 of 100\n",
      "building tree 15 of 100\n",
      "building tree 16 of 100\n",
      "building tree 17 of 100\n",
      "building tree 18 of 100\n",
      "building tree 19 of 100\n",
      "building tree 20 of 100\n",
      "building tree 21 of 100\n",
      "building tree 22 of 100\n"
     ]
    },
    {
     "name": "stderr",
     "output_type": "stream",
     "text": [
      "[Parallel(n_jobs=-1)]: Done   8 tasks      | elapsed:    8.1s\n"
     ]
    },
    {
     "name": "stdout",
     "output_type": "stream",
     "text": [
      "building tree 23 of 100\n",
      "building tree 24 of 100\n",
      "building tree 25 of 100\n",
      "building tree 26 of 100\n",
      "building tree 27 of 100\n",
      "building tree 28 of 100\n",
      "building tree 29 of 100\n",
      "building tree 30 of 100\n",
      "building tree 31 of 100\n",
      "building tree 32 of 100\n",
      "building tree 33 of 100\n",
      "building tree 34 of 100\n",
      "building tree 35 of 100\n",
      "building tree 36 of 100\n",
      "building tree 37 of 100\n",
      "building tree 38 of 100\n",
      "building tree 39 of 100\n",
      "building tree 40 of 100\n",
      "building tree 41 of 100\n",
      "building tree 42 of 100\n",
      "building tree 43 of 100\n",
      "building tree 44 of 100\n",
      "building tree 45 of 100\n",
      "building tree 46 of 100\n",
      "building tree 47 of 100\n",
      "building tree 48 of 100\n",
      "building tree 49 of 100\n",
      "building tree 50 of 100\n",
      "building tree 51 of 100\n",
      "building tree 52 of 100\n",
      "building tree 53 of 100\n",
      "building tree 54 of 100\n",
      "building tree 55 of 100\n",
      "building tree 56 of 100\n",
      "building tree 57 of 100\n",
      "building tree 58 of 100\n",
      "building tree 59 of 100\n",
      "building tree 60 of 100\n",
      "building tree 61 of 100\n",
      "building tree 62 of 100\n",
      "building tree 63 of 100\n",
      "building tree 64 of 100\n",
      "building tree 65 of 100\n",
      "building tree 66 of 100\n",
      "building tree 67 of 100\n",
      "building tree 68 of 100\n",
      "building tree 69 of 100\n",
      "building tree 70 of 100\n",
      "building tree 71 of 100\n",
      "building tree 72 of 100\n",
      "building tree 73 of 100\n",
      "building tree 74 of 100\n",
      "building tree 75 of 100\n",
      "building tree 76 of 100\n",
      "building tree 77 of 100\n",
      "building tree 78 of 100\n",
      "building tree 79 of 100\n",
      "building tree 80 of 100\n",
      "building tree 81 of 100\n",
      "building tree 82 of 100\n",
      "building tree 83 of 100\n",
      "building tree 84 of 100\n",
      "building tree 85 of 100\n",
      "building tree 86 of 100\n",
      "building tree 87 of 100\n",
      "building tree 88 of 100\n",
      "building tree 89 of 100\n",
      "building tree 90 of 100\n",
      "building tree 91 of 100\n",
      "building tree 92 of 100\n",
      "building tree 93 of 100\n",
      "building tree 94 of 100\n",
      "building tree 95 of 100\n",
      "building tree 96 of 100\n",
      "building tree 97 of 100\n",
      "building tree 98 of 100\n",
      "building tree 99 of 100\n",
      "building tree 100 of 100\n",
      "[Pipeline] ............... (step 2 of 2) Processing clf, total= 1.1min\n"
     ]
    },
    {
     "name": "stderr",
     "output_type": "stream",
     "text": [
      "[Parallel(n_jobs=-1)]: Done 100 out of 100 | elapsed:  1.1min finished\n"
     ]
    }
   ],
   "source": [
    "rf = RandomForestClassifier(verbose=3.0,\n",
    "                            random_state=1235,\n",
    "                            class_weight=\"balanced\",\n",
    "                            n_jobs=-1)\n",
    "\n",
    "#I can integrate my preprocessor with my estimator\n",
    "rf_pipe = Pipeline(steps=[(\"preproc\", full_processor),\n",
    "                          ('clf', rf)],\n",
    "                   verbose=True)\n",
    "\n",
    "#parameter dictionary for grid search\n",
    "param_dict = {\"clf__criterion\": [\"gini\", \"entropy\"],\n",
    "              \"clf__n_estimators\": [100],\n",
    "              \"clf__max_depth\": [40, 50],\n",
    "              \"clf__min_samples_split\": [2, 4],\n",
    "              \"clf__min_samples_leaf\": [1, 2, 4],\n",
    "              \"clf__max_leaf_nodes\": [50000, 75000, 100000]}\n",
    "\n",
    "search = RandomizedSearchCV(rf_pipe,\n",
    "                            param_dict,\n",
    "                            n_iter=10,\n",
    "                            cv=5, \n",
    "                            scoring=\"f1_weighted\",\n",
    "                            n_jobs=-1,\n",
    "                            verbose=3.0)\n",
    "#execute search\n",
    "rf_search = search.fit(X_train, y_train)"
   ]
  },
  {
   "cell_type": "markdown",
   "id": "3f460008",
   "metadata": {},
   "source": [
    "#### Best parameters and f1-score"
   ]
  },
  {
   "cell_type": "code",
   "execution_count": 97,
   "id": "888cfc29",
   "metadata": {},
   "outputs": [
    {
     "name": "stdout",
     "output_type": "stream",
     "text": [
      "Best weighted f1: 0.9307385452783059\n",
      "Best params: {'clf__n_estimators': 100, 'clf__min_samples_split': 4, 'clf__min_samples_leaf': 1, 'clf__max_leaf_nodes': 75000, 'clf__max_depth': 50, 'clf__criterion': 'gini'}\n"
     ]
    }
   ],
   "source": [
    "print('Best weighted f1:', abs(rf_search.best_score_))\n",
    "print('Best params:', rf_search.best_params_)"
   ]
  },
  {
   "cell_type": "markdown",
   "id": "33fa4356",
   "metadata": {},
   "source": [
    "#### Final RF"
   ]
  },
  {
   "cell_type": "code",
   "execution_count": 22,
   "id": "16518d1e",
   "metadata": {},
   "outputs": [
    {
     "name": "stdout",
     "output_type": "stream",
     "text": [
      "[Pipeline] ........... (step 1 of 2) Processing preproc, total=   2.6s\n"
     ]
    },
    {
     "name": "stderr",
     "output_type": "stream",
     "text": [
      "[Parallel(n_jobs=-1)]: Using backend ThreadingBackend with 12 concurrent workers.\n"
     ]
    },
    {
     "name": "stdout",
     "output_type": "stream",
     "text": [
      "building tree 1 of 100building tree 2 of 100building tree 3 of 100building tree 4 of 100\n",
      "\n",
      "building tree 5 of 100\n",
      "\n",
      "building tree 6 of 100\n",
      "building tree 7 of 100\n",
      "\n",
      "building tree 8 of 100\n",
      "building tree 9 of 100\n",
      "building tree 10 of 100building tree 11 of 100\n",
      "\n",
      "building tree 12 of 100\n",
      "building tree 13 of 100\n",
      "building tree 14 of 100\n",
      "building tree 15 of 100\n",
      "building tree 16 of 100\n",
      "building tree 17 of 100\n",
      "building tree 18 of 100\n",
      "building tree 19 of 100\n",
      "building tree 20 of 100\n"
     ]
    },
    {
     "name": "stderr",
     "output_type": "stream",
     "text": [
      "[Parallel(n_jobs=-1)]: Done   8 tasks      | elapsed:    7.5s\n"
     ]
    },
    {
     "name": "stdout",
     "output_type": "stream",
     "text": [
      "building tree 21 of 100\n",
      "building tree 22 of 100\n",
      "building tree 23 of 100\n",
      "building tree 24 of 100\n",
      "building tree 25 of 100\n",
      "building tree 26 of 100\n",
      "building tree 27 of 100\n",
      "building tree 28 of 100\n",
      "building tree 29 of 100\n",
      "building tree 30 of 100\n",
      "building tree 31 of 100\n",
      "building tree 32 of 100\n",
      "building tree 33 of 100\n",
      "building tree 34 of 100\n",
      "building tree 35 of 100\n",
      "building tree 36 of 100\n",
      "building tree 37 of 100\n",
      "building tree 38 of 100\n",
      "building tree 39 of 100\n",
      "building tree 40 of 100\n",
      "building tree 41 of 100\n",
      "building tree 42 of 100\n",
      "building tree 43 of 100\n",
      "building tree 44 of 100\n",
      "building tree 45 of 100\n",
      "building tree 46 of 100\n",
      "building tree 47 of 100\n",
      "building tree 48 of 100\n",
      "building tree 49 of 100\n",
      "building tree 50 of 100\n",
      "building tree 51 of 100\n",
      "building tree 52 of 100\n",
      "building tree 53 of 100\n",
      "building tree 54 of 100\n",
      "building tree 55 of 100\n",
      "building tree 56 of 100\n",
      "building tree 57 of 100\n",
      "building tree 58 of 100\n",
      "building tree 59 of 100\n",
      "building tree 60 of 100\n",
      "building tree 61 of 100\n",
      "building tree 62 of 100\n",
      "building tree 63 of 100\n",
      "building tree 64 of 100\n",
      "building tree 65 of 100\n",
      "building tree 66 of 100\n",
      "building tree 67 of 100\n",
      "building tree 68 of 100\n",
      "building tree 69 of 100\n",
      "building tree 70 of 100\n",
      "building tree 71 of 100\n",
      "building tree 72 of 100\n",
      "building tree 73 of 100\n",
      "building tree 74 of 100\n",
      "building tree 75 of 100\n",
      "building tree 76 of 100\n",
      "building tree 77 of 100\n",
      "building tree 78 of 100\n",
      "building tree 79 of 100\n",
      "building tree 80 of 100\n",
      "building tree 81 of 100\n",
      "building tree 82 of 100\n",
      "building tree 83 of 100\n",
      "building tree 84 of 100\n",
      "building tree 85 of 100\n",
      "building tree 86 of 100\n",
      "building tree 87 of 100\n",
      "building tree 88 of 100\n",
      "building tree 89 of 100\n",
      "building tree 90 of 100\n",
      "building tree 91 of 100\n",
      "building tree 92 of 100\n",
      "building tree 93 of 100\n",
      "building tree 94 of 100\n",
      "building tree 95 of 100\n",
      "building tree 96 of 100\n",
      "building tree 97 of 100\n",
      "building tree 98 of 100\n",
      "building tree 99 of 100\n",
      "building tree 100 of 100\n"
     ]
    },
    {
     "name": "stderr",
     "output_type": "stream",
     "text": [
      "[Parallel(n_jobs=-1)]: Done 100 out of 100 | elapsed:  1.1min finished\n"
     ]
    },
    {
     "name": "stdout",
     "output_type": "stream",
     "text": [
      "[Pipeline] ............... (step 2 of 2) Processing clf, total= 1.1min\n"
     ]
    },
    {
     "name": "stderr",
     "output_type": "stream",
     "text": [
      "[Parallel(n_jobs=12)]: Using backend ThreadingBackend with 12 concurrent workers.\n",
      "[Parallel(n_jobs=12)]: Done   8 tasks      | elapsed:    0.0s\n",
      "[Parallel(n_jobs=12)]: Done 100 out of 100 | elapsed:    0.4s finished\n"
     ]
    }
   ],
   "source": [
    "#fit final decision tree based on tuned hyperparameters\n",
    "rf = RandomForestClassifier(verbose=3.0,\n",
    "                            n_estimators = 100,\n",
    "                            min_samples_split=4,\n",
    "                            min_samples_leaf=1,\n",
    "                            max_leaf_nodes=75000,\n",
    "                            max_depth=50,\n",
    "                            criterion=\"gini\",\n",
    "                            random_state=1234,\n",
    "                            class_weight=\"balanced\",\n",
    "                            n_jobs=-1)\n",
    "\n",
    "final_rf_pipe = Pipeline(steps=[(\"preproc\", full_processor),\n",
    "                                ('clf', rf)],\n",
    "                         verbose=True)\n",
    "\n",
    "rf_final = final_rf_pipe.fit(X_train, y_train)\n",
    "y_preds_rf = final_rf_pipe.predict(X_test)"
   ]
  },
  {
   "cell_type": "markdown",
   "id": "d3b7a313",
   "metadata": {},
   "source": [
    "### Logistic Regression with Stochastic Average Gradient."
   ]
  },
  {
   "cell_type": "markdown",
   "id": "7e258e2d",
   "metadata": {},
   "source": [
    "Next I move on to logistic regression. I use the \"l2\" penalty with \"sag\" and \"l1\" penalty with \"saga\". By testing both l1 and l2 penalties I can also perform and compare outcomes with/without feature selection.\n",
    "\n",
    "I set mult_class to \"ovr\" for a one-vs-rest model that should require less computational power. I want to use stochastic average gradient to minimise the target function, hence I choose \"sag\"/\"saga\". According to sklearn, \"sag\" and \"saga\" should converge faster for large datasets with > 100,000 samples. However, this is contingent on all features having the same scale. Thankfully, I used MinMaxScaler during my pre-processing.\n",
    "\n",
    "My values of C during my grid search are set <= 1.0 to avoid overfitting."
   ]
  },
  {
   "cell_type": "code",
   "execution_count": 14,
   "id": "98a24828",
   "metadata": {},
   "outputs": [
    {
     "name": "stdout",
     "output_type": "stream",
     "text": [
      "Fitting 5 folds for each of 6 candidates, totalling 30 fits\n",
      "[Pipeline] ........ (step 1 of 2) Processing preprocess, total=   2.8s\n"
     ]
    },
    {
     "name": "stderr",
     "output_type": "stream",
     "text": [
      "[Parallel(n_jobs=-1)]: Using backend ThreadingBackend with 12 concurrent workers.\n"
     ]
    },
    {
     "name": "stdout",
     "output_type": "stream",
     "text": [
      "max_iter reached after 72 seconds\n"
     ]
    },
    {
     "name": "stderr",
     "output_type": "stream",
     "text": [
      "C:\\Users\\thiya\\anaconda3\\lib\\site-packages\\sklearn\\linear_model\\_sag.py:352: ConvergenceWarning: The max_iter was reached which means the coef_ did not converge\n",
      "  warnings.warn(\n"
     ]
    },
    {
     "name": "stdout",
     "output_type": "stream",
     "text": [
      "max_iter reached after 75 seconds\n",
      "max_iter reached after 76 seconds\n"
     ]
    },
    {
     "name": "stderr",
     "output_type": "stream",
     "text": [
      "[Parallel(n_jobs=-1)]: Done   3 out of   8 | elapsed:  1.3min remaining:  2.1min\n"
     ]
    },
    {
     "name": "stdout",
     "output_type": "stream",
     "text": [
      "max_iter reached after 91 seconds\n",
      "max_iter reached after 93 seconds\n",
      "max_iter reached after 94 seconds\n"
     ]
    },
    {
     "name": "stderr",
     "output_type": "stream",
     "text": [
      "[Parallel(n_jobs=-1)]: Done   6 out of   8 | elapsed:  1.6min remaining:   31.3s\n"
     ]
    },
    {
     "name": "stdout",
     "output_type": "stream",
     "text": [
      "max_iter reached after 105 seconds\n",
      "max_iter reached after 113 seconds\n",
      "[Pipeline] ............... (step 2 of 2) Processing clf, total= 1.9min\n"
     ]
    },
    {
     "name": "stderr",
     "output_type": "stream",
     "text": [
      "[Parallel(n_jobs=-1)]: Done   8 out of   8 | elapsed:  1.9min finished\n"
     ]
    }
   ],
   "source": [
    "logR = LogisticRegression(max_iter=100,\n",
    "                          dual=False,\n",
    "                          class_weight=\"balanced\",\n",
    "                          multi_class=\"ovr\",\n",
    "                          random_state=12346,\n",
    "                          n_jobs=-1,\n",
    "                          verbose=3.0)\n",
    "\n",
    "logR_pipe = Pipeline(steps=[(\"preprocess\", full_processor),\n",
    "                            (\"clf\", logR)],\n",
    "                     verbose=True)\n",
    "\n",
    "param_grid = [{\"clf__solver\": [\"sag\"],\n",
    "               \"clf__penalty\": [\"l2\"],\n",
    "               \"clf__C\": [0.01, 0.1, 1.0]},\n",
    "              {\"clf__solver\": [\"saga\"],\n",
    "               \"clf__penalty\": [\"l1\"],\n",
    "               \"clf__C\": [0.01, 0.1, 1.0]}]\n",
    "\n",
    "search = GridSearchCV(logR_pipe,\n",
    "                      param_grid,\n",
    "                      cv=5, \n",
    "                      scoring='f1_weighted',\n",
    "                      n_jobs=-1,\n",
    "                      verbose=3.0)\n",
    "\n",
    "logR_search = search.fit(X_train, y_train)"
   ]
  },
  {
   "cell_type": "markdown",
   "id": "15b7a23d",
   "metadata": {},
   "source": [
    "The model did not successfully converge on all iterations. However, increasing this value during my grid search will require a lot of computational power."
   ]
  },
  {
   "cell_type": "markdown",
   "id": "d50460d4",
   "metadata": {},
   "source": [
    "#### Best parameters and f1-score"
   ]
  },
  {
   "cell_type": "code",
   "execution_count": 15,
   "id": "e4b1f55f",
   "metadata": {},
   "outputs": [
    {
     "name": "stdout",
     "output_type": "stream",
     "text": [
      "Best weighted f1: 0.8751042573952373\n",
      "Best params: {'clf__C': 1.0, 'clf__penalty': 'l1', 'clf__solver': 'saga'}\n"
     ]
    }
   ],
   "source": [
    "print('Best weighted f1:', abs(logR_search.best_score_))\n",
    "print('Best params:', logR_search.best_params_)"
   ]
  },
  {
   "cell_type": "markdown",
   "id": "80203c39",
   "metadata": {},
   "source": [
    "#### Final Logistic Regression"
   ]
  },
  {
   "cell_type": "code",
   "execution_count": 16,
   "id": "33ef0ea8",
   "metadata": {},
   "outputs": [
    {
     "name": "stdout",
     "output_type": "stream",
     "text": [
      "[Pipeline] ........ (step 1 of 2) Processing preprocess, total=   2.8s\n"
     ]
    },
    {
     "name": "stderr",
     "output_type": "stream",
     "text": [
      "[Parallel(n_jobs=-1)]: Using backend ThreadingBackend with 12 concurrent workers.\n"
     ]
    },
    {
     "name": "stdout",
     "output_type": "stream",
     "text": [
      "max_iter reached after 66 seconds\n"
     ]
    },
    {
     "name": "stderr",
     "output_type": "stream",
     "text": [
      "C:\\Users\\thiya\\anaconda3\\lib\\site-packages\\sklearn\\linear_model\\_sag.py:352: ConvergenceWarning: The max_iter was reached which means the coef_ did not converge\n",
      "  warnings.warn(\n"
     ]
    },
    {
     "name": "stdout",
     "output_type": "stream",
     "text": [
      "max_iter reached after 69 seconds\n",
      "max_iter reached after 70 seconds\n"
     ]
    },
    {
     "name": "stderr",
     "output_type": "stream",
     "text": [
      "[Parallel(n_jobs=-1)]: Done   3 out of   8 | elapsed:  1.2min remaining:  2.0min\n"
     ]
    },
    {
     "name": "stdout",
     "output_type": "stream",
     "text": [
      "max_iter reached after 85 seconds\n",
      "max_iter reached after 87 seconds\n",
      "max_iter reached after 89 seconds\n"
     ]
    },
    {
     "name": "stderr",
     "output_type": "stream",
     "text": [
      "[Parallel(n_jobs=-1)]: Done   6 out of   8 | elapsed:  1.5min remaining:   29.6s\n"
     ]
    },
    {
     "name": "stdout",
     "output_type": "stream",
     "text": [
      "max_iter reached after 99 seconds\n",
      "max_iter reached after 106 seconds\n",
      "[Pipeline] ............... (step 2 of 2) Processing clf, total= 1.8min\n"
     ]
    },
    {
     "name": "stderr",
     "output_type": "stream",
     "text": [
      "[Parallel(n_jobs=-1)]: Done   8 out of   8 | elapsed:  1.8min finished\n"
     ]
    }
   ],
   "source": [
    "#fit final Logistic Regression Model\n",
    "logR = LogisticRegression(C=1.0,\n",
    "                          penalty=\"l1\",\n",
    "                          solver=\"saga\",\n",
    "                          max_iter=100,\n",
    "                          dual=False,\n",
    "                          class_weight=\"balanced\",\n",
    "                          multi_class=\"ovr\",\n",
    "                          random_state=12346,\n",
    "                          n_jobs=-1,\n",
    "                          verbose=3.0)\n",
    "\n",
    "final_logR_pipe = Pipeline(steps=[(\"preprocess\", full_processor),\n",
    "                                  (\"clf\", logR)],\n",
    "                           verbose=True)\n",
    "\n",
    "logR_final = final_logR_pipe.fit(X_train, y_train)\n",
    "y_preds_logR = final_logR_pipe.predict(X_test)"
   ]
  },
  {
   "cell_type": "markdown",
   "id": "cdf3a5eb",
   "metadata": {},
   "source": [
    "Unfortunately we still have a failure to converge. One solution would be to increase the number of iterations even further but that will be computationally intensive."
   ]
  },
  {
   "cell_type": "markdown",
   "id": "549f07df",
   "metadata": {},
   "source": [
    "### Support Vector Machine with Linear Kernel"
   ]
  },
  {
   "cell_type": "markdown",
   "id": "7b22bff9",
   "metadata": {},
   "source": [
    "I next move on to my implementation of support vector machines. For my grid search I compare \"l1\" and \"l2\" penalties and set a series of C values, taking care to not set C > 1.0 to avoid overfitting. \n",
    "\n",
    "By testing both l1 and l2 penalties I can also perform and compare outcomes with/without feature selection."
   ]
  },
  {
   "cell_type": "code",
   "execution_count": 17,
   "id": "24b55de8",
   "metadata": {},
   "outputs": [
    {
     "name": "stdout",
     "output_type": "stream",
     "text": [
      "Fitting 5 folds for each of 6 candidates, totalling 30 fits\n",
      "[Pipeline] ........ (step 1 of 2) Processing preprocess, total=   2.7s\n",
      "[LibLinear][Pipeline] ............... (step 2 of 2) Processing clf, total=  34.3s\n"
     ]
    }
   ],
   "source": [
    "#svm\n",
    "svm = LinearSVC(dual=False,\n",
    "                multi_class=\"ovr\",\n",
    "                class_weight=\"balanced\",\n",
    "                verbose=3.0,\n",
    "                random_state=12347)\n",
    "\n",
    "svm_pipe = Pipeline(steps=[(\"preprocess\", full_processor),\n",
    "                           (\"clf\", svm)],\n",
    "                           verbose=True)\n",
    "\n",
    "param_grid = [{\"clf__loss\": [\"squared_hinge\"],\n",
    "               \"clf__penalty\": [\"l2\"],\n",
    "               \"clf__C\": [0.01, 0.1, 1.0]},\n",
    "              {\"clf__loss\": [\"squared_hinge\"],\n",
    "               \"clf__penalty\": [\"l1\"],\n",
    "               \"clf__C\": [0.01, 0.1, 1.0]}]\n",
    "\n",
    "search = GridSearchCV(svm_pipe,\n",
    "                      param_grid,\n",
    "                      cv=5, \n",
    "                      scoring=\"f1_weighted\",\n",
    "                      n_jobs=-1,\n",
    "                      verbose=3.0)\n",
    "\n",
    "svm_search = search.fit(X_train, y_train)"
   ]
  },
  {
   "cell_type": "markdown",
   "id": "41c1c7da",
   "metadata": {},
   "source": [
    "#### Best parameters and f1-score"
   ]
  },
  {
   "cell_type": "code",
   "execution_count": 18,
   "id": "56ec91be",
   "metadata": {},
   "outputs": [
    {
     "name": "stdout",
     "output_type": "stream",
     "text": [
      "Best weighted f1: 0.9125733440007782\n",
      "Best params: {'clf__C': 0.1, 'clf__loss': 'squared_hinge', 'clf__penalty': 'l2'}\n"
     ]
    }
   ],
   "source": [
    "print('Best weighted f1:', abs(svm_search.best_score_))\n",
    "print('Best params:', svm_search.best_params_)"
   ]
  },
  {
   "cell_type": "markdown",
   "id": "510b506c",
   "metadata": {},
   "source": [
    "Overall it looks like my Random Forest returned the best score after grid search."
   ]
  },
  {
   "cell_type": "markdown",
   "id": "2d104345",
   "metadata": {},
   "source": [
    "#### Final SVM Model"
   ]
  },
  {
   "cell_type": "code",
   "execution_count": 28,
   "id": "70f16320",
   "metadata": {},
   "outputs": [
    {
     "name": "stdout",
     "output_type": "stream",
     "text": [
      "[Pipeline] ........ (step 1 of 2) Processing preprocess, total=   2.7s\n",
      "[LibLinear][Pipeline] ............... (step 2 of 2) Processing clf, total=  35.1s\n"
     ]
    }
   ],
   "source": [
    "#fit final svm Model\n",
    "svm = LinearSVC(penalty=\"l2\",\n",
    "                loss=\"squared_hinge\",\n",
    "                C = 0.1,\n",
    "                dual=False,\n",
    "                multi_class=\"ovr\",\n",
    "                class_weight=\"balanced\",\n",
    "                verbose=2.0,\n",
    "                random_state=12347)\n",
    "\n",
    "final_svm_pipe = Pipeline(steps=[(\"preprocess\", full_processor),\n",
    "                                 (\"clf\", svm)],\n",
    "                          verbose=True)\n",
    "\n",
    "svm_final = final_svm_pipe.fit(X_train, y_train)\n",
    "y_preds_svm = final_svm_pipe.predict(X_test)"
   ]
  },
  {
   "cell_type": "markdown",
   "id": "7fd3d549",
   "metadata": {},
   "source": [
    "Now that I have fit all of my models. I can move on to evaluating their performance on the test set."
   ]
  },
  {
   "cell_type": "markdown",
   "id": "e1ee17a5",
   "metadata": {},
   "source": [
    "## 2.3 Model Performance"
   ]
  },
  {
   "cell_type": "markdown",
   "id": "afb5e8d1",
   "metadata": {},
   "source": [
    "To compare the results from my models, I build classification accuracy tables for each model."
   ]
  },
  {
   "cell_type": "markdown",
   "id": "c06f4fbc",
   "metadata": {},
   "source": [
    "### Random Forest Classification"
   ]
  },
  {
   "cell_type": "code",
   "execution_count": 23,
   "id": "439729c5",
   "metadata": {},
   "outputs": [
    {
     "name": "stdout",
     "output_type": "stream",
     "text": [
      "                                precision    recall  f1-score   support\n",
      "\n",
      "                 Assassination       0.88      0.73      0.79      6276\n",
      "                 Armed Assault       0.90      0.92      0.91     14165\n",
      "             Bombing/Explosion       0.97      0.99      0.98     28803\n",
      "                     Hijacking       0.90      0.41      0.56       222\n",
      "            Barricade Incident       0.61      0.60      0.61       341\n",
      "                    Kidnapping       0.90      0.96      0.93      3931\n",
      "Facility/Infrastructure Attack       0.84      0.90      0.87      3376\n",
      "               Unarmed Assault       0.87      0.82      0.84       364\n",
      "\n",
      "                      accuracy                           0.93     57478\n",
      "                     macro avg       0.86      0.79      0.81     57478\n",
      "                  weighted avg       0.93      0.93      0.93     57478\n",
      "\n"
     ]
    }
   ],
   "source": [
    "print(classification_report(y_test,\n",
    "                            y_preds_rf,\n",
    "                            target_names=target_names))"
   ]
  },
  {
   "cell_type": "markdown",
   "id": "6e76c910",
   "metadata": {},
   "source": [
    "The weighted average of the random forest's precision is 0.93, meaning that when it makes a prediction, it has a 93% chance of being correct. The recall is also 0.93 meaning that 93% of each target type is correctly classified. \n",
    "\n",
    "The classifier is the mist successful at identifying Bombings, Kidnappings and Armed Assaults whilst performing the worst on Barricade Incidents (hostage taking where the hostages are barricaded indoors), Hijackings and Assassinations. I can see that the classifier tends to perform worse on target classes with the least data.\n",
    "\n",
    "Of particular concern is the very low recall for Barricade incidents, meaning that only 41% of this type of Hostage Taking has been correctly identified. However, the precision for this incident is high, indicating that when the model predicts a barricade it is correct about 90% of the time.\n",
    "\n",
    "Overall, the results are promising and the random forest classifier gives me a useful baseline with which I can benchmark my other models against."
   ]
  },
  {
   "cell_type": "markdown",
   "id": "6706bec9",
   "metadata": {},
   "source": [
    "### Logistic Regression with Stochastic Average Gradient."
   ]
  },
  {
   "cell_type": "code",
   "execution_count": 19,
   "id": "0a6785d8",
   "metadata": {},
   "outputs": [
    {
     "name": "stdout",
     "output_type": "stream",
     "text": [
      "                                precision    recall  f1-score   support\n",
      "\n",
      "                 Assassination       0.75      0.76      0.75      6276\n",
      "                 Armed Assault       0.91      0.80      0.85     14165\n",
      "             Bombing/Explosion       0.98      0.96      0.97     28803\n",
      "                     Hijacking       0.28      0.64      0.39       222\n",
      "            Barricade Incident       0.13      0.89      0.23       341\n",
      "                    Kidnapping       0.94      0.76      0.84      3931\n",
      "Facility/Infrastructure Attack       0.75      0.87      0.81      3376\n",
      "               Unarmed Assault       0.61      0.99      0.75       364\n",
      "\n",
      "                      accuracy                           0.88     57478\n",
      "                     macro avg       0.67      0.83      0.70     57478\n",
      "                  weighted avg       0.91      0.88      0.89     57478\n",
      "\n"
     ]
    }
   ],
   "source": [
    "print(classification_report(y_test,\n",
    "                            y_preds_logR,\n",
    "                            target_names=target_names))"
   ]
  },
  {
   "cell_type": "markdown",
   "id": "9f5297f1",
   "metadata": {},
   "source": [
    "My logistic regression has a slightly lower weighted f1 score of 0.89. The 0.88 recall means that it accurately identified 88% of the target classes. However, the precision of the logistic regression is higher at 0.91, giving it a 91% chance of being correct when it makes a prediction.\n",
    "\n",
    "The logistic regression is strongest at predicting bombings, armed assaults and kidnappings. It performs the worst at predicting hijackings, barricade incidents and assassinations. Of particular concern are barricade incidents, with a very high false negative rate. All three target classes have smaller sample sizes compared to the most frequent classes.\n",
    "\n",
    "Interestingly, the model is fairly accurate at predicting facility/infrastructure attacks despite the small sample size. There must be some features strongly correlated with these attacks to allow for the strong performance.\n",
    "\n",
    "Overall, the results here are less promising than for the random forest classifier."
   ]
  },
  {
   "cell_type": "markdown",
   "id": "6f02bf61",
   "metadata": {},
   "source": [
    "### Support Vector Machine with Linear Kernel"
   ]
  },
  {
   "cell_type": "code",
   "execution_count": 29,
   "id": "193136cb",
   "metadata": {},
   "outputs": [
    {
     "name": "stdout",
     "output_type": "stream",
     "text": [
      "                                precision    recall  f1-score   support\n",
      "\n",
      "                 Assassination       0.77      0.75      0.76      6276\n",
      "                 Armed Assault       0.90      0.86      0.88     14165\n",
      "             Bombing/Explosion       0.98      0.97      0.98     28803\n",
      "                     Hijacking       0.49      0.59      0.53       222\n",
      "            Barricade Incident       0.43      0.68      0.53       341\n",
      "                    Kidnapping       0.92      0.94      0.93      3931\n",
      "Facility/Infrastructure Attack       0.78      0.88      0.83      3376\n",
      "               Unarmed Assault       0.80      0.96      0.87       364\n",
      "\n",
      "                      accuracy                           0.91     57478\n",
      "                     macro avg       0.76      0.83      0.79     57478\n",
      "                  weighted avg       0.91      0.91      0.91     57478\n",
      "\n"
     ]
    }
   ],
   "source": [
    "print(classification_report(y_test,\n",
    "                            y_preds_svm,\n",
    "                            target_names=target_names))"
   ]
  },
  {
   "cell_type": "markdown",
   "id": "51fc5e95",
   "metadata": {},
   "source": [
    "The SVM classifier using a linear kernel returns a high weighted f1, precision, and recall. Similar to the other classifiers, it performs better as the sample size of the target class increases. \n",
    "\n",
    "The model is best at classifying bombings, kidnappings and armed assaults. It performs the worst with hijackings, barricade incidents and assassinations. All models seem to have trouble with barricade incidents and hijackings, which is likely due to the small sample size.\n",
    "\n",
    "The results here are promising as well, leaving the SVM and RF as good choices out of the 3 models."
   ]
  },
  {
   "cell_type": "markdown",
   "id": "dce0bbd4",
   "metadata": {},
   "source": [
    "# Part 3: Results Analysis"
   ]
  },
  {
   "cell_type": "markdown",
   "id": "3776c566",
   "metadata": {},
   "source": [
    "## 3.1 Error Analysis"
   ]
  },
  {
   "cell_type": "markdown",
   "id": "6b59e3e4",
   "metadata": {},
   "source": [
    "Instead of visualizing a massive decision tree, and generating other unique visualizations for each model, I plot confusion matrices for all classifiers to get a sense of where errors are happening."
   ]
  },
  {
   "cell_type": "markdown",
   "id": "ed61cf51",
   "metadata": {},
   "source": [
    "### Random Forest"
   ]
  },
  {
   "cell_type": "code",
   "execution_count": 30,
   "id": "88ffa40e",
   "metadata": {},
   "outputs": [
    {
     "data": {
      "image/png": "[encoded data removed]",
      "text/plain": [
       "<Figure size 1152x504 with 2 Axes>"
      ]
     },
     "metadata": {
      "needs_background": "light"
     },
     "output_type": "display_data"
    }
   ],
   "source": [
    "#Confusion Matrix for Random Forest Model\n",
    "util.con_matrix(y_test, y_preds_rf, \"RandomForest\", target_names)"
   ]
  },
  {
   "cell_type": "markdown",
   "id": "cffb3b7a",
   "metadata": {},
   "source": [
    "The random forest makes the following mistakes:\n",
    "\n",
    "- Misclassifying 15% of assassinations as armed assaults\n",
    "- Misclassifying 16% and 32% of hijackings as armed assaults and kidnapping respectively.\n",
    "- Misclassifying 28% of barricade incidents as kidnapping.\n",
    "\n",
    "This is probably due to the fact that hijackings, assassinations, barricade incidents and kidnappings are attacks that specifically target a small number of people. Thus, there should be significant overlap in the types of weapons used and the types of targets."
   ]
  },
  {
   "cell_type": "markdown",
   "id": "6fcc0aed",
   "metadata": {},
   "source": [
    "### Logistic Regression with Stochastic Average Gradient"
   ]
  },
  {
   "cell_type": "code",
   "execution_count": 20,
   "id": "0f464b36",
   "metadata": {},
   "outputs": [
    {
     "data": {
      "image/png": "[encoded data removed]",
      "text/plain": [
       "<Figure size 1152x504 with 2 Axes>"
      ]
     },
     "metadata": {
      "needs_background": "light"
     },
     "output_type": "display_data"
    }
   ],
   "source": [
    "util.con_matrix(y_test, y_preds_logR, \"Logistic Regression\", target_names)"
   ]
  },
  {
   "cell_type": "markdown",
   "id": "f119f3c2",
   "metadata": {},
   "source": [
    "The logistic regression makes the following mistakes:\n",
    "\n",
    "- Misclassifying 13% of assassinations as armed assaults\n",
    "- Misclassifying 12% of armed assaults as barricade incidents.\n",
    "- Misclassifying 19% of kidnappings as barricade incidents\n",
    "\n",
    "Once again, this is probably due to the fact that hijackings, barricade incidents and kidnappings are attacks that specifically target a small number of people. Thus, there should be significant overlap in the types of weapons used and the types of targets.\n",
    "\n",
    "The armed assault errors are harder to interpret and could be due to the fact that armed assaults occasionally end up in barricade incidents when the attackers fail and take hostages as a last resort."
   ]
  },
  {
   "cell_type": "markdown",
   "id": "15c6a954",
   "metadata": {},
   "source": [
    "### Support Vector Machine with Linear Kernel"
   ]
  },
  {
   "cell_type": "code",
   "execution_count": 32,
   "id": "aad04a44",
   "metadata": {},
   "outputs": [
    {
     "data": {
      "image/png": "[encoded data removed]",
      "text/plain": [
       "<Figure size 1152x504 with 2 Axes>"
      ]
     },
     "metadata": {},
     "output_type": "display_data"
    }
   ],
   "source": [
    "util.con_matrix(y_test, y_preds_svm, \"Support Vector Machine\", target_names)"
   ]
  },
  {
   "cell_type": "markdown",
   "id": "d4201ebc",
   "metadata": {},
   "source": [
    "The logistic regression makes the following mistakes:\n",
    "\n",
    "- Misclassifying 14% of assassinations as armed assaults\n",
    "- Misclassifying 12% and 16% of hijackings as armed assaults and kidnapping respectively.\n",
    "\n",
    "Interestingly, the misclassifications for the support vector machine have a much smaller magnitude and are distributed more evenly across the various classes. The major errors could be due to commonalities between armed assaults, kidnappings, hijackings and assassinations such as a focus on human targets and military vehicles."
   ]
  },
  {
   "cell_type": "markdown",
   "id": "dbed292e",
   "metadata": {},
   "source": [
    "## 3.2 Top Coefficients"
   ]
  },
  {
   "cell_type": "markdown",
   "id": "6cd11327",
   "metadata": {},
   "source": [
    "### Random Forest Classifier"
   ]
  },
  {
   "cell_type": "code",
   "execution_count": 33,
   "id": "6f2b1f6b",
   "metadata": {},
   "outputs": [
    {
     "name": "stdout",
     "output_type": "stream",
     "text": [
      "The 10 most important features in the Random Forest are:\n",
      "\n",
      "\n",
      "weaptype1_txt Melee with a weight of 90.235\n",
      "weaptype1_txt Chemical with a weight of 86.305\n",
      "weapsubtype1_txt Blunt Object with a weight of 79.209\n",
      "weaptype1_txt Other with a weight of 73.076\n",
      "weaptype2_txt Melee with a weight of 63.417\n",
      "weaptype1_txt Vehicle (not to include vehicle-borne explosives, i.e., car or truck bombs) with a weight of 57.866\n",
      "weapsubtype1_txt Hands, Feet, Fists with a weight of 57.613\n",
      "weapsubtype2_txt Unknown Weapon Type with a weight of 47.785\n",
      "weaptype1_txt Biological with a weight of 47.452\n",
      "weapsubtype1_txt Poisoning with a weight of 44.337\n"
     ]
    },
    {
     "name": "stderr",
     "output_type": "stream",
     "text": [
      "C:\\Users\\thiya\\anaconda3\\lib\\site-packages\\sklearn\\utils\\deprecation.py:87: FutureWarning: Function get_feature_names is deprecated; get_feature_names is deprecated in 1.0 and will be removed in 1.2. Please use get_feature_names_out instead.\n",
      "  warnings.warn(msg, category=FutureWarning)\n"
     ]
    }
   ],
   "source": [
    "feature_importance = FeatureImportance(final_rf_pipe)\n",
    "for idx, target in enumerate(target_names):\n",
    "    feature_list = list(zip(final_logR_pipe.named_steps[\"clf\"].coef_[idx],\n",
    "                            feature_importance.get_feature_names()))\n",
    "    feature_list.sort(key = lambda x: x[0], reverse=True)\n",
    "print(f\"The 10 most important features in the Random Forest are:\")\n",
    "print(\"\\n\")\n",
    "c = 0\n",
    "\n",
    "for wt, feature in feature_list:\n",
    "    if c < 10:\n",
    "        if feature.startswith(\"x\"):\n",
    "            colnum = int(re.search(r\"\\d+\", feature)[0])\n",
    "            colname = categorical_features[colnum]\n",
    "            colsubname = re.search(r\"(?<=_).*\", feature)[0]\n",
    "            print(f\"{colname} {colsubname} with a weight of {wt:.3f}\")\n",
    "        else:\n",
    "            print(f\"{feature} with a weight of {wt:.3f}\")\n",
    "        c += 1"
   ]
  },
  {
   "cell_type": "markdown",
   "id": "6e056158",
   "metadata": {},
   "source": [
    "The random forest classifier gives the most weight to weapon types, and this makes sense. For example Hands, Feet, Fists are most likely correlated with an unarmed assault. Complications are likely to arrise from attacks that use a weapon type associated with different types of attacks. For example, vehicles might be used for both bombings and armed assaults."
   ]
  },
  {
   "cell_type": "markdown",
   "id": "1564eac8",
   "metadata": {},
   "source": [
    "### Logistic Regression"
   ]
  },
  {
   "cell_type": "code",
   "execution_count": 23,
   "id": "344c5b7f",
   "metadata": {},
   "outputs": [
    {
     "name": "stdout",
     "output_type": "stream",
     "text": [
      "The 3 most important features in the Logistic Regression for Assassination are:\n",
      "gname Black September with a weight of 6.712\n",
      "kidhijcountry Nepal with a weight of 6.091\n",
      "gsubname National Army for the Liberation of Uganda (NALU) with a weight of 5.629\n",
      "\n",
      "\n",
      "The 3 most important features in the Logistic Regression for Armed Assault are:\n",
      "weaptype1_txt Firearms with a weight of 6.026\n",
      "weapsubtype1_txt Knife or Other Sharp Object with a weight of 4.960\n",
      "nkill with a weight of 4.925\n",
      "\n",
      "\n",
      "The 3 most important features in the Logistic Regression for Bombing/Explosion are:\n",
      "weaptype1_txt Explosives with a weight of 7.093\n",
      "gsubname Meinhof Anti-Imperialist Group with a weight of 6.342\n",
      "weapsubtype1_txt Explosive with a weight of 5.799\n",
      "\n",
      "\n",
      "The 3 most important features in the Logistic Regression for Hijacking are:\n",
      "targsubtype1_txt Aircraft (not at an airport) with a weight of 212.975\n",
      "targsubtype1_txt Vehicles/Transportation with a weight of 208.585\n",
      "targtype1_txt Airports & Aircraft with a weight of 161.432\n",
      "\n",
      "\n",
      "The 3 most important features in the Logistic Regression for Barricade Incident are:\n",
      "targsubtype1_txt Radio Journalist/Staff/Facility with a weight of 108.939\n",
      "weapsubtype1_txt Hands, Feet, Fists with a weight of 85.378\n",
      "natlty1_txt Panama with a weight of 78.225\n",
      "\n",
      "\n",
      "The 3 most important features in the Logistic Regression for Kidnapping are:\n",
      "gsubname El Arkam with a weight of 5.075\n",
      "ishostkid Yes with a weight of 5.053\n",
      "gname Ku Klux Klan with a weight of 4.814\n",
      "\n",
      "\n",
      "The 3 most important features in the Logistic Regression for Facility/Infrastructure Attack are:\n",
      "natlty2_txt Peru with a weight of 9.265\n",
      "weaptype1_txt Sabotage Equipment with a weight of 8.641\n",
      "gname Pro-Kabul Provocateurs with a weight of 7.959\n",
      "\n",
      "\n",
      "The 3 most important features in the Logistic Regression for Unarmed Assault are:\n",
      "weaptype1_txt Chemical with a weight of 97.998\n",
      "weapsubtype1_txt Blunt Object with a weight of 88.793\n",
      "weaptype1_txt Other with a weight of 79.669\n",
      "\n",
      "\n"
     ]
    }
   ],
   "source": [
    "feature_importance = FeatureImportance(final_logR_pipe)\n",
    "#logisticregression\n",
    "for idx, target in enumerate(target_names):\n",
    "    feature_list = list(zip(final_logR_pipe.named_steps[\"clf\"].coef_[idx],\n",
    "                            feature_importance.get_feature_names()))\n",
    "    feature_list.sort(key = lambda x: x[0], reverse=True)\n",
    "    print(f\"The 3 most important features in the Logistic Regression for {target} are:\")\n",
    "    for wt, feature in feature_list[0:3]:\n",
    "        if feature.startswith(\"x\"):\n",
    "            colnum = int(re.search(r\"\\d+\", feature)[0])\n",
    "            colname = categorical_features[colnum]\n",
    "            colsubname = re.search(r\"(?<=_).*\", feature)[0]\n",
    "            print(f\"{colname} {colsubname} with a weight of {wt:.3f}\")\n",
    "        else:\n",
    "            print(f\"{feature} with a weight of {wt:.3f}\")\n",
    "    print(\"\\n\")"
   ]
  },
  {
   "cell_type": "markdown",
   "id": "273a424b",
   "metadata": {},
   "source": [
    "The logistic regression gives the strongest weights to weapon types, target types and group names across all target classes. Understanding if these coefficients make sense requires contextual knowledge. For example, knowing whether Ku Klux Klan members carry out a large number of kidnappings will help determine if its heavy weighting is justified for the kidnapping class.\n",
    "\n",
    "Some weights do not make sense. For example, hands and feet as weapon types are heavily weighted for barricade incidents. It does not make sense to take hostages within a barricaded compound without more powerful weapons to defend yourself with."
   ]
  },
  {
   "cell_type": "markdown",
   "id": "b3ea09b4",
   "metadata": {},
   "source": [
    "### Support Vector Machine"
   ]
  },
  {
   "cell_type": "code",
   "execution_count": 35,
   "id": "6d275b47",
   "metadata": {},
   "outputs": [
    {
     "name": "stdout",
     "output_type": "stream",
     "text": [
      "The 3 most important features in the SVM for Assassination are:\n",
      "gname Black September with a weight of 1.174\n",
      "gsubname South African Suicide Squad with a weight of 0.952\n",
      "targtype1_txt Journalists & Media with a weight of 0.926\n",
      "\n",
      "\n",
      "The 3 most important features in the SVM for Armed Assault are:\n",
      "weaptype1_txt Firearms with a weight of 1.457\n",
      "weapsubtype1_txt Knife or Other Sharp Object with a weight of 1.395\n",
      "propextent_missing_flag with a weight of 1.259\n",
      "\n",
      "\n",
      "The 3 most important features in the SVM for Bombing/Explosion are:\n",
      "weaptype1_txt Explosives with a weight of 1.620\n",
      "weaptype2_txt Explosives with a weight of 1.060\n",
      "weapsubtype1_txt Explosive with a weight of 1.028\n",
      "\n",
      "\n",
      "The 3 most important features in the SVM for Hijacking are:\n",
      "gname Afghan Guerrillas with a weight of 2.419\n",
      "gsubname Los Pelusos with a weight of 2.198\n",
      "gname Revolutionary Armed Forces of Colombia (FARC) dissidents with a weight of 1.856\n",
      "\n",
      "\n",
      "The 3 most important features in the SVM for Barricade Incident are:\n",
      "natlty1_txt Panama with a weight of 2.023\n",
      "kidhijcountry Nigeria with a weight of 1.704\n",
      "gname Lebanese Man with a weight of 1.677\n",
      "\n",
      "\n",
      "The 3 most important features in the SVM for Kidnapping are:\n",
      "ishostkid Yes with a weight of 0.641\n",
      "gsubname El Arkam with a weight of 0.638\n",
      "gname Fuerzas Armadas de Liberacion Nacional (FALN) with a weight of 0.606\n",
      "\n",
      "\n",
      "The 3 most important features in the SVM for Facility/Infrastructure Attack are:\n",
      "gname Corsican National Liberation Front- Historic Channel with a weight of 1.173\n",
      "weaptype1_txt Sabotage Equipment with a weight of 1.116\n",
      "weaptype2_txt Incendiary with a weight of 1.091\n",
      "\n",
      "\n",
      "The 3 most important features in the SVM for Unarmed Assault are:\n",
      "country_txt Nigeria with a weight of 1.246\n",
      "weaptype1_txt Chemical with a weight of 1.233\n",
      "weaptype1_txt Biological with a weight of 1.173\n",
      "\n",
      "\n"
     ]
    }
   ],
   "source": [
    "feature_importance = FeatureImportance(final_svm_pipe)\n",
    "\n",
    "for idx, target in enumerate(target_names):\n",
    "    feature_list = list(zip(final_svm_pipe.named_steps[\"clf\"].coef_[idx],\n",
    "                            feature_importance.get_feature_names()))\n",
    "    feature_list.sort(key = lambda x: x[0], reverse=True)\n",
    "    print(f\"The 3 most important features in the SVM for {target} are:\")\n",
    "    for wt, feature in feature_list[0:3]:\n",
    "        if feature.startswith(\"x\"):\n",
    "            colnum = int(re.search(r\"\\d+\", feature)[0])\n",
    "            colname = categorical_features[colnum]\n",
    "            colsubname = re.search(r\"(?<=_).*\", feature)[0]\n",
    "            print(f\"{colname} {colsubname} with a weight of {wt:.3f}\")\n",
    "        else:\n",
    "            print(f\"{feature} with a weight of {wt:.3f}\")\n",
    "    print(\"\\n\")"
   ]
  },
  {
   "cell_type": "markdown",
   "id": "f4931fb9",
   "metadata": {},
   "source": [
    "For the SVM, the heaviest weights are also given to weapon types, group names and target types. As mentioned previously, contextual knowledge can be helpful in determining if these weights are valid.\n",
    "\n",
    "Once again, some feature weights do not make sense. For example, in predicting barricade incidents, the heaviest weight is given to the presence of panamanian terrorists. I am sure that different groups have all taken hostage before. It could be the case that of the few instances that panamanians have been involved in, the majority of them have been barricade incidents. Deeper contextual knowledge is required to evaluate this."
   ]
  },
  {
   "cell_type": "markdown",
   "id": "9c28cd6b",
   "metadata": {},
   "source": [
    "# Final Thoughts"
   ]
  },
  {
   "cell_type": "markdown",
   "id": "391b7b80",
   "metadata": {},
   "source": [
    "From my analysis, I conclude that the random forest and svm are the most appropriate classifiers for this prediction task. The random forest classifier performs the strongest across the various statistical metrics. More importantly, its weighting of coefficients is logical and is heavily supported by the existing literature on terrorism. \n",
    "\n",
    "The SVM, whilst performing well in the classification table and confusion matrix, weights coefficients with little contextual validity occasionally. Although it is possible that the algorithm has identified hidden patterns in the data, the odds are unlikely. However, it is also worth noting that the svm makes less systemic errors and has its misclassifications more evenly distributed. This can make the model more useful in certain contexts.\n",
    "\n",
    "The Logistic Regression is not far behind the two and would probably benefit more with a larget set of training data.\n",
    "\n",
    "The authors of this paper only utilised a random forest model and based on my results I can see why. The random forest I have implemented here has also reached similar scores as the authors of the paper. Overall, I am satisfied with the performance of the model and am looking forward to deploying it for actual predictive tasks."
   ]
  }
 ],
 "metadata": {
  "kernelspec": {
   "display_name": "Python 3 (ipykernel)",
   "language": "python",
   "name": "python3"
  },
  "language_info": {
   "codemirror_mode": {
    "name": "ipython",
    "version": 3
   },
   "file_extension": ".py",
   "mimetype": "text/x-python",
   "name": "python",
   "nbconvert_exporter": "python",
   "pygments_lexer": "ipython3",
   "version": "3.8.12"
  }
 },
 "nbformat": 4,
 "nbformat_minor": 5
}
